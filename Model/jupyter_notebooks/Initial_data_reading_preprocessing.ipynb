{
 "cells": [
  {
   "cell_type": "code",
   "execution_count": 37,
   "metadata": {},
   "outputs": [],
   "source": [
    "import pandas as pd\n",
    "import numpy as np\n",
    "import matplotlib.pyplot as plt\n",
    "import seaborn as sns\n",
    "import os\n",
    "import re"
   ]
  },
  {
   "cell_type": "code",
   "execution_count": 3,
   "metadata": {},
   "outputs": [
    {
     "data": {
      "text/plain": [
       "'D:/My Works KG/Interview_preparation/Take_home_assessment/Model/jupyter_notebooks'"
      ]
     },
     "execution_count": 3,
     "metadata": {},
     "output_type": "execute_result"
    }
   ],
   "source": [
    "'D:\\\\My Works KG\\\\Interview_preparation\\\\Take_home_assessment\\\\Model\\\\jupyter_notebooks'.replace('\\\\','/')"
   ]
  },
  {
   "cell_type": "markdown",
   "metadata": {},
   "source": [
    "### Quality of Voice data"
   ]
  },
  {
   "cell_type": "code",
   "execution_count": 227,
   "metadata": {},
   "outputs": [],
   "source": [
    "data_path = 'D:/My Works KG/Interview_preparation/Take_home_assessment/Data/Quality_Data/'"
   ]
  },
  {
   "cell_type": "code",
   "execution_count": 228,
   "metadata": {},
   "outputs": [
    {
     "name": "stdout",
     "output_type": "stream",
     "text": [
      "April_MyCall_2021.csv\n",
      "August_MyCall_2021.csv\n",
      "December_MyCall_2022.csv\n",
      "January_MyCall_2022.csv\n",
      "June_MyCall_2021.csv\n",
      "March_MyCall_2021.csv\n",
      "May_MyCall_2021.csv\n",
      "MyCall_Data_April_2020.csv\n",
      "MyCall_Data_August_2020.csv\n",
      "MyCall_Data_December_2020.csv\n",
      "MyCall_Data_February_2020.csv\n",
      "MyCall_Data_February_2021.csv\n",
      "MyCall_Data_January_2020.csv\n",
      "MyCall_Data_January_2021.csv\n",
      "MyCall_Data_July_2020.csv\n",
      "MyCall_Data_June_2020.csv\n",
      "MyCall_Data_March_2020.csv\n",
      "MyCall_Data_May_2020.csv\n",
      "MyCall_Data_November_2020.csv\n",
      "MyCall_Data_October_2020.csv\n",
      "MyCall_Data_September_2020.csv\n",
      "October_MyCall_2021.csv\n",
      "September_MyCall_2021.csv\n"
     ]
    }
   ],
   "source": [
    "\n",
    "dfs = []\n",
    "\n",
    "for file_name in os.listdir(data_path):\n",
    "    if file_name.endswith('.csv') and '2019' not in file_name:\n",
    "        print(file_name)\n",
    "        file_path = os.path.join(data_path, file_name)\n",
    "        \n",
    "        df = pd.read_csv(file_path)\n",
    "        \n",
    "        df.columns = df.columns.str.lower().str.replace(' ', '_')\n",
    "        \n",
    "        df = df.rename(columns={'calldrop_category' : 'call_drop_category','inout_travelling' : 'in_out_travelling'})\n",
    "\n",
    "        df['file_name'] = file_name\n",
    "\n",
    "        dfs.append(df)\n",
    "\n",
    "\n",
    "combined_df = pd.concat(dfs, ignore_index=True)\n",
    "\n",
    "combined_df.columns = combined_df.columns.str.lower().str.replace(' ', '_')\n",
    "\n"
   ]
  },
  {
   "cell_type": "code",
   "execution_count": 229,
   "metadata": {},
   "outputs": [],
   "source": [
    "def rename_file(input_filename):\n",
    "    match = re.search(r'MyCall_Data_([a-zA-Z]+)_(\\d{4})\\.csv', input_filename)\n",
    "\n",
    "    if match:\n",
    "        month, year = match.groups()\n",
    "        new_filename = f'{month}_{input_filename.split(\"_\")[0]}_{year}.csv'\n",
    "        \n",
    "        return new_filename\n",
    "    else:\n",
    "        return input_filename"
   ]
  },
  {
   "cell_type": "code",
   "execution_count": 230,
   "metadata": {},
   "outputs": [],
   "source": [
    "combined_df['file_name'] = combined_df['file_name'].apply(rename_file)"
   ]
  },
  {
   "cell_type": "code",
   "execution_count": 231,
   "metadata": {},
   "outputs": [
    {
     "data": {
      "text/plain": [
       "January_MyCall_2020.csv      21948\n",
       "November_MyCall_2020.csv     21167\n",
       "December_MyCall_2020.csv     20197\n",
       "February_MyCall_2020.csv     17724\n",
       "January_MyCall_2021.csv      13652\n",
       "July_MyCall_2020.csv         13606\n",
       "March_MyCall_2020.csv        13485\n",
       "August_MyCall_2020.csv       10534\n",
       "June_MyCall_2020.csv         10387\n",
       "May_MyCall_2020.csv          10285\n",
       "September_MyCall_2020.csv     9954\n",
       "October_MyCall_2020.csv       9734\n",
       "April_MyCall_2020.csv         9460\n",
       "February_MyCall_2021.csv      7530\n",
       "March_MyCall_2021.csv         6495\n",
       "April_MyCall_2021.csv         6044\n",
       "June_MyCall_2021.csv          3988\n",
       "May_MyCall_2021.csv           3889\n",
       "August_MyCall_2021.csv        2560\n",
       "October_MyCall_2021.csv       2244\n",
       "September_MyCall_2021.csv     2061\n",
       "December_MyCall_2022.csv      1370\n",
       "January_MyCall_2022.csv        620\n",
       "Name: file_name, dtype: int64"
      ]
     },
     "execution_count": 231,
     "metadata": {},
     "output_type": "execute_result"
    }
   ],
   "source": [
    "combined_df['file_name'].value_counts()"
   ]
  },
  {
   "cell_type": "code",
   "execution_count": 232,
   "metadata": {},
   "outputs": [],
   "source": [
    "def extract_month_year(file_name):\n",
    "    match = re.match(r'(\\w+)_(\\w+)_(\\d{4}).csv', file_name)\n",
    "    if match:\n",
    "        month, _, year = match.groups()\n",
    "        return f\"{month}_{year}\"\n",
    "    else:\n",
    "        return None"
   ]
  },
  {
   "cell_type": "code",
   "execution_count": 233,
   "metadata": {},
   "outputs": [],
   "source": [
    "combined_df['month_year'] = combined_df['file_name'].apply(extract_month_year)"
   ]
  },
  {
   "cell_type": "code",
   "execution_count": 236,
   "metadata": {},
   "outputs": [],
   "source": [
    "combined_df['month'] = combined_df['month_year'].apply(lambda x : x.split('_')[0])"
   ]
  },
  {
   "cell_type": "code",
   "execution_count": 237,
   "metadata": {},
   "outputs": [],
   "source": [
    "combined_df['year'] = combined_df['month_year'].apply(lambda x : x.split('_')[1])"
   ]
  },
  {
   "cell_type": "markdown",
   "metadata": {},
   "source": [
    "## detailed Statistical and Visual Analysis"
   ]
  },
  {
   "cell_type": "code",
   "execution_count": 239,
   "metadata": {},
   "outputs": [
    {
     "data": {
      "text/html": [
       "<div>\n",
       "<style scoped>\n",
       "    .dataframe tbody tr th:only-of-type {\n",
       "        vertical-align: middle;\n",
       "    }\n",
       "\n",
       "    .dataframe tbody tr th {\n",
       "        vertical-align: top;\n",
       "    }\n",
       "\n",
       "    .dataframe thead th {\n",
       "        text-align: right;\n",
       "    }\n",
       "</style>\n",
       "<table border=\"1\" class=\"dataframe\">\n",
       "  <thead>\n",
       "    <tr style=\"text-align: right;\">\n",
       "      <th></th>\n",
       "      <th>operator</th>\n",
       "      <th>in_out_travelling</th>\n",
       "      <th>network_type</th>\n",
       "      <th>rating</th>\n",
       "      <th>call_drop_category</th>\n",
       "      <th>latitude</th>\n",
       "      <th>longitude</th>\n",
       "      <th>state_name</th>\n",
       "      <th>file_name</th>\n",
       "      <th>month_year</th>\n",
       "      <th>month</th>\n",
       "      <th>year</th>\n",
       "    </tr>\n",
       "  </thead>\n",
       "  <tbody>\n",
       "    <tr>\n",
       "      <th>0</th>\n",
       "      <td>Vodafone</td>\n",
       "      <td>Outdoor</td>\n",
       "      <td>3G</td>\n",
       "      <td>5</td>\n",
       "      <td>Satisfactory</td>\n",
       "      <td>-1.0</td>\n",
       "      <td>-1.0</td>\n",
       "      <td>NaN</td>\n",
       "      <td>April_MyCall_2021.csv</td>\n",
       "      <td>April_2021</td>\n",
       "      <td>April</td>\n",
       "      <td>2021</td>\n",
       "    </tr>\n",
       "    <tr>\n",
       "      <th>1</th>\n",
       "      <td>Vodafone</td>\n",
       "      <td>Travelling</td>\n",
       "      <td>3G</td>\n",
       "      <td>5</td>\n",
       "      <td>Satisfactory</td>\n",
       "      <td>-1.0</td>\n",
       "      <td>-1.0</td>\n",
       "      <td>NaN</td>\n",
       "      <td>April_MyCall_2021.csv</td>\n",
       "      <td>April_2021</td>\n",
       "      <td>April</td>\n",
       "      <td>2021</td>\n",
       "    </tr>\n",
       "    <tr>\n",
       "      <th>2</th>\n",
       "      <td>Vodafone</td>\n",
       "      <td>Outdoor</td>\n",
       "      <td>2G</td>\n",
       "      <td>5</td>\n",
       "      <td>Satisfactory</td>\n",
       "      <td>-1.0</td>\n",
       "      <td>-1.0</td>\n",
       "      <td>NaN</td>\n",
       "      <td>April_MyCall_2021.csv</td>\n",
       "      <td>April_2021</td>\n",
       "      <td>April</td>\n",
       "      <td>2021</td>\n",
       "    </tr>\n",
       "    <tr>\n",
       "      <th>3</th>\n",
       "      <td>Vodafone</td>\n",
       "      <td>Indoor</td>\n",
       "      <td>3G</td>\n",
       "      <td>5</td>\n",
       "      <td>Satisfactory</td>\n",
       "      <td>-1.0</td>\n",
       "      <td>-1.0</td>\n",
       "      <td>NaN</td>\n",
       "      <td>April_MyCall_2021.csv</td>\n",
       "      <td>April_2021</td>\n",
       "      <td>April</td>\n",
       "      <td>2021</td>\n",
       "    </tr>\n",
       "    <tr>\n",
       "      <th>4</th>\n",
       "      <td>Vodafone</td>\n",
       "      <td>Travelling</td>\n",
       "      <td>3G</td>\n",
       "      <td>5</td>\n",
       "      <td>Satisfactory</td>\n",
       "      <td>-1.0</td>\n",
       "      <td>-1.0</td>\n",
       "      <td>NaN</td>\n",
       "      <td>April_MyCall_2021.csv</td>\n",
       "      <td>April_2021</td>\n",
       "      <td>April</td>\n",
       "      <td>2021</td>\n",
       "    </tr>\n",
       "  </tbody>\n",
       "</table>\n",
       "</div>"
      ],
      "text/plain": [
       "   operator in_out_travelling network_type  rating call_drop_category  \\\n",
       "0  Vodafone           Outdoor           3G       5       Satisfactory   \n",
       "1  Vodafone        Travelling           3G       5       Satisfactory   \n",
       "2  Vodafone           Outdoor           2G       5       Satisfactory   \n",
       "3  Vodafone            Indoor           3G       5       Satisfactory   \n",
       "4  Vodafone        Travelling           3G       5       Satisfactory   \n",
       "\n",
       "   latitude  longitude state_name              file_name  month_year  month  \\\n",
       "0      -1.0       -1.0        NaN  April_MyCall_2021.csv  April_2021  April   \n",
       "1      -1.0       -1.0        NaN  April_MyCall_2021.csv  April_2021  April   \n",
       "2      -1.0       -1.0        NaN  April_MyCall_2021.csv  April_2021  April   \n",
       "3      -1.0       -1.0        NaN  April_MyCall_2021.csv  April_2021  April   \n",
       "4      -1.0       -1.0        NaN  April_MyCall_2021.csv  April_2021  April   \n",
       "\n",
       "   year  \n",
       "0  2021  \n",
       "1  2021  \n",
       "2  2021  \n",
       "3  2021  \n",
       "4  2021  "
      ]
     },
     "execution_count": 239,
     "metadata": {},
     "output_type": "execute_result"
    }
   ],
   "source": [
    "combined_df.head()"
   ]
  },
  {
   "cell_type": "code",
   "execution_count": 242,
   "metadata": {},
   "outputs": [
    {
     "name": "stdout",
     "output_type": "stream",
     "text": [
      "<class 'pandas.core.frame.DataFrame'>\n",
      "RangeIndex: 218934 entries, 0 to 218933\n",
      "Data columns (total 12 columns):\n",
      " #   Column              Non-Null Count   Dtype  \n",
      "---  ------              --------------   -----  \n",
      " 0   operator            218934 non-null  object \n",
      " 1   in_out_travelling   218934 non-null  object \n",
      " 2   network_type        216772 non-null  object \n",
      " 3   rating              218934 non-null  int64  \n",
      " 4   call_drop_category  218934 non-null  object \n",
      " 5   latitude            218934 non-null  float64\n",
      " 6   longitude           218934 non-null  float64\n",
      " 7   state_name          142686 non-null  object \n",
      " 8   file_name           218934 non-null  object \n",
      " 9   month_year          218934 non-null  object \n",
      " 10  month               218934 non-null  object \n",
      " 11  year                218934 non-null  object \n",
      "dtypes: float64(2), int64(1), object(9)\n",
      "memory usage: 20.0+ MB\n"
     ]
    }
   ],
   "source": [
    "combined_df.info()"
   ]
  },
  {
   "cell_type": "markdown",
   "metadata": {},
   "source": [
    "#### Data has 218934 rows with 12 columns and data size is 20 MB."
   ]
  },
  {
   "cell_type": "markdown",
   "metadata": {},
   "source": [
    "### Statistical Analysis of Dataframe"
   ]
  },
  {
   "cell_type": "code",
   "execution_count": 243,
   "metadata": {},
   "outputs": [],
   "source": [
    "## This function prepares summary of dataframe, like summary for numerical columns, summary for categorical columns. Even this function analyse\n",
    "## for outliers and null values\n",
    "\n",
    "def get_summary(df, target_col=None):\n",
    "    stats_df = df.copy()\n",
    "    stats_num = stats_df.select_dtypes(exclude='object')\n",
    "    desc_num = stats_num.describe()\n",
    "    desc_num.reset_index(inplace=True)\n",
    "    median_dict = desc_num.median().to_dict()\n",
    "    median_dict['index'] = 'median'\n",
    "    desc_num = desc_num.append(median_dict, ignore_index=True).round(2)\n",
    "    if target_col:\n",
    "        desc_num.drop(target_col, axis=1, inplace=True)\n",
    "    desc_num.rename(columns={'index':'Statistical Measures'}, inplace=True)\n",
    "    desc_num.set_index('Statistical Measures', inplace=True)\n",
    "    desc_num.loc['count'] = desc_num.loc['count'].map(lambda x: \"{0:.0f}\".format(int(x)) if type(x) != str else x)\n",
    "\n",
    "    stats_cat = stats_df.select_dtypes(include='object')\n",
    "    desc_cat = stats_cat.describe()\n",
    "    desc_cat.reset_index(inplace=True)\n",
    "\n",
    "    Q1 = stats_num.quantile(0.25)\n",
    "    Q3 = stats_num.quantile(0.75)\n",
    "    IQR = Q3 - Q1\n",
    "    outlier_df = ((stats_num < (Q1 - 1.5 * IQR)) | (stats_num > (Q3 + 1.5 * IQR))).sum().reset_index()\n",
    "    outlier_df.rename(columns={'index': 'Feature', 0: 'Number of outliers'}, inplace=True)\n",
    "    null_df = stats_num.isnull().sum().reset_index()\n",
    "    null_df.rename(columns={'index': 'Feature', 0: 'null_values'}, inplace=True)\n",
    "    null_df = null_df[null_df['null_values'] > 0]\n",
    "    null_df['prop_null_values'] = ((null_df['null_values'] / len(stats_num)) * 100)\n",
    "    null_df_40 = null_df[null_df['prop_null_values'] > 40]\n",
    "    return {'summary_num': desc_num,'summary_cat':desc_cat, 'outlier_df': outlier_df, 'null_df': null_df,'null_df_40' : null_df_40}\n"
   ]
  },
  {
   "cell_type": "code",
   "execution_count": 244,
   "metadata": {},
   "outputs": [
    {
     "name": "stderr",
     "output_type": "stream",
     "text": [
      "C:\\Users\\Gavade\\Anaconda3\\lib\\site-packages\\ipykernel_launcher.py:9: FutureWarning: Dropping of nuisance columns in DataFrame reductions (with 'numeric_only=None') is deprecated; in a future version this will raise TypeError.  Select only valid columns before calling the reduction.\n",
      "  if __name__ == '__main__':\n"
     ]
    }
   ],
   "source": [
    "summary_df = get_summary(combined_df)"
   ]
  },
  {
   "cell_type": "code",
   "execution_count": null,
   "metadata": {},
   "outputs": [],
   "source": []
  },
  {
   "cell_type": "code",
   "execution_count": 246,
   "metadata": {},
   "outputs": [
    {
     "data": {
      "text/html": [
       "<div>\n",
       "<style scoped>\n",
       "    .dataframe tbody tr th:only-of-type {\n",
       "        vertical-align: middle;\n",
       "    }\n",
       "\n",
       "    .dataframe tbody tr th {\n",
       "        vertical-align: top;\n",
       "    }\n",
       "\n",
       "    .dataframe thead th {\n",
       "        text-align: right;\n",
       "    }\n",
       "</style>\n",
       "<table border=\"1\" class=\"dataframe\">\n",
       "  <thead>\n",
       "    <tr style=\"text-align: right;\">\n",
       "      <th></th>\n",
       "      <th>rating</th>\n",
       "      <th>latitude</th>\n",
       "      <th>longitude</th>\n",
       "    </tr>\n",
       "    <tr>\n",
       "      <th>Statistical Measures</th>\n",
       "      <th></th>\n",
       "      <th></th>\n",
       "      <th></th>\n",
       "    </tr>\n",
       "  </thead>\n",
       "  <tbody>\n",
       "    <tr>\n",
       "      <th>count</th>\n",
       "      <td>218934</td>\n",
       "      <td>218934</td>\n",
       "      <td>218934</td>\n",
       "    </tr>\n",
       "    <tr>\n",
       "      <th>mean</th>\n",
       "      <td>3.52</td>\n",
       "      <td>13.41</td>\n",
       "      <td>50.9</td>\n",
       "    </tr>\n",
       "    <tr>\n",
       "      <th>std</th>\n",
       "      <td>1.58</td>\n",
       "      <td>11.42</td>\n",
       "      <td>38.26</td>\n",
       "    </tr>\n",
       "    <tr>\n",
       "      <th>min</th>\n",
       "      <td>1.0</td>\n",
       "      <td>-1.0</td>\n",
       "      <td>-1.0</td>\n",
       "    </tr>\n",
       "    <tr>\n",
       "      <th>25%</th>\n",
       "      <td>2.0</td>\n",
       "      <td>-1.0</td>\n",
       "      <td>-1.0</td>\n",
       "    </tr>\n",
       "    <tr>\n",
       "      <th>50%</th>\n",
       "      <td>4.0</td>\n",
       "      <td>17.63</td>\n",
       "      <td>75.37</td>\n",
       "    </tr>\n",
       "    <tr>\n",
       "      <th>75%</th>\n",
       "      <td>5.0</td>\n",
       "      <td>22.83</td>\n",
       "      <td>78.75</td>\n",
       "    </tr>\n",
       "    <tr>\n",
       "      <th>max</th>\n",
       "      <td>5.0</td>\n",
       "      <td>34.37</td>\n",
       "      <td>103.79</td>\n",
       "    </tr>\n",
       "    <tr>\n",
       "      <th>median</th>\n",
       "      <td>3.76</td>\n",
       "      <td>15.52</td>\n",
       "      <td>63.14</td>\n",
       "    </tr>\n",
       "  </tbody>\n",
       "</table>\n",
       "</div>"
      ],
      "text/plain": [
       "                      rating latitude longitude\n",
       "Statistical Measures                           \n",
       "count                 218934   218934    218934\n",
       "mean                    3.52    13.41      50.9\n",
       "std                     1.58    11.42     38.26\n",
       "min                      1.0     -1.0      -1.0\n",
       "25%                      2.0     -1.0      -1.0\n",
       "50%                      4.0    17.63     75.37\n",
       "75%                      5.0    22.83     78.75\n",
       "max                      5.0    34.37    103.79\n",
       "median                  3.76    15.52     63.14"
      ]
     },
     "execution_count": 246,
     "metadata": {},
     "output_type": "execute_result"
    }
   ],
   "source": [
    "# Statistical summary of numerical columns\n",
    "summary_df['summary_num']"
   ]
  },
  {
   "cell_type": "code",
   "execution_count": 247,
   "metadata": {},
   "outputs": [
    {
     "data": {
      "text/html": [
       "<div>\n",
       "<style scoped>\n",
       "    .dataframe tbody tr th:only-of-type {\n",
       "        vertical-align: middle;\n",
       "    }\n",
       "\n",
       "    .dataframe tbody tr th {\n",
       "        vertical-align: top;\n",
       "    }\n",
       "\n",
       "    .dataframe thead th {\n",
       "        text-align: right;\n",
       "    }\n",
       "</style>\n",
       "<table border=\"1\" class=\"dataframe\">\n",
       "  <thead>\n",
       "    <tr style=\"text-align: right;\">\n",
       "      <th></th>\n",
       "      <th>index</th>\n",
       "      <th>operator</th>\n",
       "      <th>in_out_travelling</th>\n",
       "      <th>network_type</th>\n",
       "      <th>call_drop_category</th>\n",
       "      <th>state_name</th>\n",
       "      <th>file_name</th>\n",
       "      <th>month_year</th>\n",
       "      <th>month</th>\n",
       "      <th>year</th>\n",
       "    </tr>\n",
       "  </thead>\n",
       "  <tbody>\n",
       "    <tr>\n",
       "      <th>0</th>\n",
       "      <td>count</td>\n",
       "      <td>218934</td>\n",
       "      <td>218934</td>\n",
       "      <td>216772</td>\n",
       "      <td>218934</td>\n",
       "      <td>142686</td>\n",
       "      <td>218934</td>\n",
       "      <td>218934</td>\n",
       "      <td>218934</td>\n",
       "      <td>218934</td>\n",
       "    </tr>\n",
       "    <tr>\n",
       "      <th>1</th>\n",
       "      <td>unique</td>\n",
       "      <td>10</td>\n",
       "      <td>3</td>\n",
       "      <td>4</td>\n",
       "      <td>3</td>\n",
       "      <td>41</td>\n",
       "      <td>23</td>\n",
       "      <td>23</td>\n",
       "      <td>12</td>\n",
       "      <td>3</td>\n",
       "    </tr>\n",
       "    <tr>\n",
       "      <th>2</th>\n",
       "      <td>top</td>\n",
       "      <td>RJio</td>\n",
       "      <td>Indoor</td>\n",
       "      <td>4G</td>\n",
       "      <td>Satisfactory</td>\n",
       "      <td>Maharashtra</td>\n",
       "      <td>January_MyCall_2020.csv</td>\n",
       "      <td>January_2020</td>\n",
       "      <td>January</td>\n",
       "      <td>2020</td>\n",
       "    </tr>\n",
       "    <tr>\n",
       "      <th>3</th>\n",
       "      <td>freq</td>\n",
       "      <td>67515</td>\n",
       "      <td>151920</td>\n",
       "      <td>154587</td>\n",
       "      <td>149512</td>\n",
       "      <td>28858</td>\n",
       "      <td>21948</td>\n",
       "      <td>21948</td>\n",
       "      <td>36220</td>\n",
       "      <td>168481</td>\n",
       "    </tr>\n",
       "  </tbody>\n",
       "</table>\n",
       "</div>"
      ],
      "text/plain": [
       "    index operator in_out_travelling network_type call_drop_category  \\\n",
       "0   count   218934            218934       216772             218934   \n",
       "1  unique       10                 3            4                  3   \n",
       "2     top     RJio            Indoor           4G       Satisfactory   \n",
       "3    freq    67515            151920       154587             149512   \n",
       "\n",
       "    state_name                file_name    month_year    month    year  \n",
       "0       142686                   218934        218934   218934  218934  \n",
       "1           41                       23            23       12       3  \n",
       "2  Maharashtra  January_MyCall_2020.csv  January_2020  January    2020  \n",
       "3        28858                    21948         21948    36220  168481  "
      ]
     },
     "execution_count": 247,
     "metadata": {},
     "output_type": "execute_result"
    }
   ],
   "source": [
    "# Statistical summary of Categorical columns\n",
    "summary_df['summary_cat']"
   ]
  },
  {
   "cell_type": "markdown",
   "metadata": {},
   "source": [
    "1. There are 10 distinct operator available. About 67K records are related to Rjio operator.\n",
    "2. 4 distince network types are present and 4G has 1.54L records available.\n",
    "3. In call_drop_category 3 different categories are present."
   ]
  },
  {
   "cell_type": "code",
   "execution_count": 248,
   "metadata": {},
   "outputs": [
    {
     "data": {
      "text/html": [
       "<div>\n",
       "<style scoped>\n",
       "    .dataframe tbody tr th:only-of-type {\n",
       "        vertical-align: middle;\n",
       "    }\n",
       "\n",
       "    .dataframe tbody tr th {\n",
       "        vertical-align: top;\n",
       "    }\n",
       "\n",
       "    .dataframe thead th {\n",
       "        text-align: right;\n",
       "    }\n",
       "</style>\n",
       "<table border=\"1\" class=\"dataframe\">\n",
       "  <thead>\n",
       "    <tr style=\"text-align: right;\">\n",
       "      <th></th>\n",
       "      <th>Feature</th>\n",
       "      <th>Number of outliers</th>\n",
       "    </tr>\n",
       "  </thead>\n",
       "  <tbody>\n",
       "    <tr>\n",
       "      <th>0</th>\n",
       "      <td>rating</td>\n",
       "      <td>0</td>\n",
       "    </tr>\n",
       "    <tr>\n",
       "      <th>1</th>\n",
       "      <td>latitude</td>\n",
       "      <td>0</td>\n",
       "    </tr>\n",
       "    <tr>\n",
       "      <th>2</th>\n",
       "      <td>longitude</td>\n",
       "      <td>0</td>\n",
       "    </tr>\n",
       "  </tbody>\n",
       "</table>\n",
       "</div>"
      ],
      "text/plain": [
       "     Feature  Number of outliers\n",
       "0     rating                   0\n",
       "1   latitude                   0\n",
       "2  longitude                   0"
      ]
     },
     "execution_count": 248,
     "metadata": {},
     "output_type": "execute_result"
    }
   ],
   "source": [
    "summary_df['outlier_df']"
   ]
  },
  {
   "cell_type": "code",
   "execution_count": 249,
   "metadata": {},
   "outputs": [
    {
     "data": {
      "text/html": [
       "<div>\n",
       "<style scoped>\n",
       "    .dataframe tbody tr th:only-of-type {\n",
       "        vertical-align: middle;\n",
       "    }\n",
       "\n",
       "    .dataframe tbody tr th {\n",
       "        vertical-align: top;\n",
       "    }\n",
       "\n",
       "    .dataframe thead th {\n",
       "        text-align: right;\n",
       "    }\n",
       "</style>\n",
       "<table border=\"1\" class=\"dataframe\">\n",
       "  <thead>\n",
       "    <tr style=\"text-align: right;\">\n",
       "      <th></th>\n",
       "      <th>Feature</th>\n",
       "      <th>null_values</th>\n",
       "      <th>prop_null_values</th>\n",
       "    </tr>\n",
       "  </thead>\n",
       "  <tbody>\n",
       "  </tbody>\n",
       "</table>\n",
       "</div>"
      ],
      "text/plain": [
       "Empty DataFrame\n",
       "Columns: [Feature, null_values, prop_null_values]\n",
       "Index: []"
      ]
     },
     "execution_count": 249,
     "metadata": {},
     "output_type": "execute_result"
    }
   ],
   "source": [
    "summary_df['null_df_40']"
   ]
  },
  {
   "cell_type": "markdown",
   "metadata": {},
   "source": [
    "1. No outliers present in the dataset\n",
    "2. Not significant amount of null values are present in the dataset"
   ]
  },
  {
   "cell_type": "markdown",
   "metadata": {},
   "source": [
    "### Univariate analysis\n",
    "\n",
    "We will do univariate analysis"
   ]
  },
  {
   "cell_type": "markdown",
   "metadata": {},
   "source": [
    "#### Network operator "
   ]
  },
  {
   "cell_type": "code",
   "execution_count": 55,
   "metadata": {},
   "outputs": [
    {
     "data": {
      "image/png": "[encoded data removed]",
      "text/plain": [
       "<Figure size 576x576 with 1 Axes>"
      ]
     },
     "metadata": {},
     "output_type": "display_data"
    }
   ],
   "source": [
    "operator_counts = combined_df['operator'].value_counts()\n",
    "\n",
    "# Plot a pie chart\n",
    "plt.figure(figsize=(8, 8))\n",
    "plt.pie(operator_counts, labels=operator_counts.index, autopct='%1.1f%%', startangle=90)\n",
    "plt.title('Distribution of operators')\n",
    "plt.show()"
   ]
  },
  {
   "cell_type": "markdown",
   "metadata": {},
   "source": [
    "1. RJio contributes about 32% of the records available which is maximum among other operators followed by Airtel and Vodafone"
   ]
  },
  {
   "cell_type": "code",
   "execution_count": 251,
   "metadata": {},
   "outputs": [
    {
     "data": {
      "text/plain": [
       "<AxesSubplot:xlabel='network_type', ylabel='count'>"
      ]
     },
     "execution_count": 251,
     "metadata": {},
     "output_type": "execute_result"
    },
    {
     "data": {
      "image/png": "[encoded data removed]",
      "text/plain": [
       "<Figure size 432x288 with 1 Axes>"
      ]
     },
     "metadata": {
      "needs_background": "light"
     },
     "output_type": "display_data"
    }
   ],
   "source": [
    "sns.countplot(data=combined_df, x='network_type',palette='viridis')"
   ]
  },
  {
   "cell_type": "markdown",
   "metadata": {},
   "source": [
    "154587 records are of network type 4G and lesss amount of 2G related records available."
   ]
  },
  {
   "cell_type": "code",
   "execution_count": 65,
   "metadata": {},
   "outputs": [
    {
     "data": {
      "image/png": "[encoded data removed]",
      "text/plain": [
       "<Figure size 576x432 with 1 Axes>"
      ]
     },
     "metadata": {
      "needs_background": "light"
     },
     "output_type": "display_data"
    }
   ],
   "source": [
    "call_drop_category_count = combined_df['call_drop_category'].value_counts()\n",
    "\n",
    "\n",
    "plt.figure(figsize=(8, 6))\n",
    "plt.barh(call_drop_category_count.index, call_drop_category_count, color='skyblue')\n",
    "\n",
    "# Annotate each bar with its count value\n",
    "for index, value in enumerate(call_drop_category_count):\n",
    "    plt.text(value, index, str(value), ha='left', va='center', fontsize=10)\n",
    "\n",
    "plt.title('Distribution of Call Drop Categories (Counts)')\n",
    "plt.xlabel('Count')\n",
    "plt.show()"
   ]
  },
  {
   "cell_type": "code",
   "execution_count": 68,
   "metadata": {},
   "outputs": [],
   "source": [
    "import folium\n",
    "\n",
    "\n",
    "latitude = combined_df['latitude']\n",
    "longitude = combined_df['longitude']\n",
    "locations = list(zip(latitude, longitude))\n",
    "\n",
    "# Create a folium map centered around the mean of the coordinates\n",
    "map_center = [sum(latitude) / len(latitude), sum(longitude) / len(longitude)]\n",
    "my_map = folium.Map(location=map_center, zoom_start=5)\n",
    "\n",
    "# Add markers for each location\n",
    "for loc in locations:\n",
    "    folium.Marker(location=loc).add_to(my_map)\n",
    "\n",
    "# Save the map to an HTML file or display it\n",
    "my_map.save('map.html')\n"
   ]
  },
  {
   "cell_type": "code",
   "execution_count": 70,
   "metadata": {},
   "outputs": [],
   "source": [
    "# my_map"
   ]
  },
  {
   "cell_type": "markdown",
   "metadata": {},
   "source": [
    "#### Bivariate Analysis"
   ]
  },
  {
   "cell_type": "markdown",
   "metadata": {},
   "source": [
    "#### Operator with Call drop category"
   ]
  },
  {
   "cell_type": "code",
   "execution_count": 252,
   "metadata": {},
   "outputs": [],
   "source": [
    "op_df = pd.DataFrame(combined_df['operator'].value_counts(normalize=True).reset_index().rename(columns={'index':'operator','operator':'proportion'}))"
   ]
  },
  {
   "cell_type": "code",
   "execution_count": 253,
   "metadata": {},
   "outputs": [
    {
     "data": {
      "text/html": [
       "<div>\n",
       "<style scoped>\n",
       "    .dataframe tbody tr th:only-of-type {\n",
       "        vertical-align: middle;\n",
       "    }\n",
       "\n",
       "    .dataframe tbody tr th {\n",
       "        vertical-align: top;\n",
       "    }\n",
       "\n",
       "    .dataframe thead th {\n",
       "        text-align: right;\n",
       "    }\n",
       "</style>\n",
       "<table border=\"1\" class=\"dataframe\">\n",
       "  <thead>\n",
       "    <tr style=\"text-align: right;\">\n",
       "      <th></th>\n",
       "      <th>operator</th>\n",
       "      <th>proportion</th>\n",
       "    </tr>\n",
       "  </thead>\n",
       "  <tbody>\n",
       "    <tr>\n",
       "      <th>0</th>\n",
       "      <td>RJio</td>\n",
       "      <td>0.308381</td>\n",
       "    </tr>\n",
       "    <tr>\n",
       "      <th>1</th>\n",
       "      <td>Airtel</td>\n",
       "      <td>0.257055</td>\n",
       "    </tr>\n",
       "    <tr>\n",
       "      <th>2</th>\n",
       "      <td>Idea</td>\n",
       "      <td>0.153640</td>\n",
       "    </tr>\n",
       "    <tr>\n",
       "      <th>3</th>\n",
       "      <td>Vodafone</td>\n",
       "      <td>0.151352</td>\n",
       "    </tr>\n",
       "    <tr>\n",
       "      <th>4</th>\n",
       "      <td>BSNL</td>\n",
       "      <td>0.082180</td>\n",
       "    </tr>\n",
       "    <tr>\n",
       "      <th>5</th>\n",
       "      <td>VI</td>\n",
       "      <td>0.021641</td>\n",
       "    </tr>\n",
       "    <tr>\n",
       "      <th>6</th>\n",
       "      <td>MTNL</td>\n",
       "      <td>0.014128</td>\n",
       "    </tr>\n",
       "    <tr>\n",
       "      <th>7</th>\n",
       "      <td>Other</td>\n",
       "      <td>0.011615</td>\n",
       "    </tr>\n",
       "    <tr>\n",
       "      <th>8</th>\n",
       "      <td>Tata</td>\n",
       "      <td>0.000005</td>\n",
       "    </tr>\n",
       "    <tr>\n",
       "      <th>9</th>\n",
       "      <td>Telenor</td>\n",
       "      <td>0.000005</td>\n",
       "    </tr>\n",
       "  </tbody>\n",
       "</table>\n",
       "</div>"
      ],
      "text/plain": [
       "   operator  proportion\n",
       "0      RJio    0.308381\n",
       "1    Airtel    0.257055\n",
       "2      Idea    0.153640\n",
       "3  Vodafone    0.151352\n",
       "4      BSNL    0.082180\n",
       "5        VI    0.021641\n",
       "6      MTNL    0.014128\n",
       "7     Other    0.011615\n",
       "8      Tata    0.000005\n",
       "9   Telenor    0.000005"
      ]
     },
     "execution_count": 253,
     "metadata": {},
     "output_type": "execute_result"
    }
   ],
   "source": [
    "op_df"
   ]
  },
  {
   "cell_type": "code",
   "execution_count": 254,
   "metadata": {},
   "outputs": [
    {
     "data": {
      "text/html": [
       "<div>\n",
       "<style scoped>\n",
       "    .dataframe tbody tr th:only-of-type {\n",
       "        vertical-align: middle;\n",
       "    }\n",
       "\n",
       "    .dataframe tbody tr th {\n",
       "        vertical-align: top;\n",
       "    }\n",
       "\n",
       "    .dataframe thead th {\n",
       "        text-align: right;\n",
       "    }\n",
       "</style>\n",
       "<table border=\"1\" class=\"dataframe\">\n",
       "  <thead>\n",
       "    <tr style=\"text-align: right;\">\n",
       "      <th>call_drop_category</th>\n",
       "      <th>Call Dropped</th>\n",
       "      <th>Poor Voice Quality</th>\n",
       "      <th>Satisfactory</th>\n",
       "    </tr>\n",
       "    <tr>\n",
       "      <th>operator</th>\n",
       "      <th></th>\n",
       "      <th></th>\n",
       "      <th></th>\n",
       "    </tr>\n",
       "  </thead>\n",
       "  <tbody>\n",
       "    <tr>\n",
       "      <th>Tata</th>\n",
       "      <td>0.000000</td>\n",
       "      <td>0.000000</td>\n",
       "      <td>1.000000</td>\n",
       "    </tr>\n",
       "    <tr>\n",
       "      <th>Telenor</th>\n",
       "      <td>0.000000</td>\n",
       "      <td>0.000000</td>\n",
       "      <td>1.000000</td>\n",
       "    </tr>\n",
       "    <tr>\n",
       "      <th>Idea</th>\n",
       "      <td>0.063442</td>\n",
       "      <td>0.088771</td>\n",
       "      <td>0.847787</td>\n",
       "    </tr>\n",
       "    <tr>\n",
       "      <th>VI</th>\n",
       "      <td>0.071338</td>\n",
       "      <td>0.145209</td>\n",
       "      <td>0.783453</td>\n",
       "    </tr>\n",
       "    <tr>\n",
       "      <th>MTNL</th>\n",
       "      <td>0.152926</td>\n",
       "      <td>0.131264</td>\n",
       "      <td>0.715810</td>\n",
       "    </tr>\n",
       "    <tr>\n",
       "      <th>Vodafone</th>\n",
       "      <td>0.091803</td>\n",
       "      <td>0.203193</td>\n",
       "      <td>0.705004</td>\n",
       "    </tr>\n",
       "    <tr>\n",
       "      <th>BSNL</th>\n",
       "      <td>0.130669</td>\n",
       "      <td>0.170076</td>\n",
       "      <td>0.699255</td>\n",
       "    </tr>\n",
       "    <tr>\n",
       "      <th>Other</th>\n",
       "      <td>0.117578</td>\n",
       "      <td>0.224145</td>\n",
       "      <td>0.658278</td>\n",
       "    </tr>\n",
       "    <tr>\n",
       "      <th>RJio</th>\n",
       "      <td>0.110153</td>\n",
       "      <td>0.251618</td>\n",
       "      <td>0.638229</td>\n",
       "    </tr>\n",
       "    <tr>\n",
       "      <th>Airtel</th>\n",
       "      <td>0.128274</td>\n",
       "      <td>0.261168</td>\n",
       "      <td>0.610558</td>\n",
       "    </tr>\n",
       "  </tbody>\n",
       "</table>\n",
       "</div>"
      ],
      "text/plain": [
       "call_drop_category  Call Dropped  Poor Voice Quality  Satisfactory\n",
       "operator                                                          \n",
       "Tata                    0.000000            0.000000      1.000000\n",
       "Telenor                 0.000000            0.000000      1.000000\n",
       "Idea                    0.063442            0.088771      0.847787\n",
       "VI                      0.071338            0.145209      0.783453\n",
       "MTNL                    0.152926            0.131264      0.715810\n",
       "Vodafone                0.091803            0.203193      0.705004\n",
       "BSNL                    0.130669            0.170076      0.699255\n",
       "Other                   0.117578            0.224145      0.658278\n",
       "RJio                    0.110153            0.251618      0.638229\n",
       "Airtel                  0.128274            0.261168      0.610558"
      ]
     },
     "execution_count": 254,
     "metadata": {},
     "output_type": "execute_result"
    }
   ],
   "source": [
    "op_drop = combined_df.groupby('operator')['call_drop_category'].value_counts(normalize=True)\n",
    "op_drop_df = op_drop.unstack(fill_value=0)\n",
    "op_drop_df.sort_values(by='Satisfactory',ascending=False)"
   ]
  },
  {
   "cell_type": "code",
   "execution_count": 255,
   "metadata": {},
   "outputs": [],
   "source": [
    "op_drop_df = pd.merge(op_drop_df, op_df, on='operator')"
   ]
  },
  {
   "cell_type": "code",
   "execution_count": 256,
   "metadata": {},
   "outputs": [
    {
     "data": {
      "text/html": [
       "<div>\n",
       "<style scoped>\n",
       "    .dataframe tbody tr th:only-of-type {\n",
       "        vertical-align: middle;\n",
       "    }\n",
       "\n",
       "    .dataframe tbody tr th {\n",
       "        vertical-align: top;\n",
       "    }\n",
       "\n",
       "    .dataframe thead th {\n",
       "        text-align: right;\n",
       "    }\n",
       "</style>\n",
       "<table border=\"1\" class=\"dataframe\">\n",
       "  <thead>\n",
       "    <tr style=\"text-align: right;\">\n",
       "      <th></th>\n",
       "      <th>operator</th>\n",
       "      <th>Call Dropped</th>\n",
       "      <th>Poor Voice Quality</th>\n",
       "      <th>Satisfactory</th>\n",
       "      <th>proportion</th>\n",
       "    </tr>\n",
       "  </thead>\n",
       "  <tbody>\n",
       "    <tr>\n",
       "      <th>5</th>\n",
       "      <td>RJio</td>\n",
       "      <td>0.110153</td>\n",
       "      <td>0.251618</td>\n",
       "      <td>0.638229</td>\n",
       "      <td>0.308381</td>\n",
       "    </tr>\n",
       "    <tr>\n",
       "      <th>0</th>\n",
       "      <td>Airtel</td>\n",
       "      <td>0.128274</td>\n",
       "      <td>0.261168</td>\n",
       "      <td>0.610558</td>\n",
       "      <td>0.257055</td>\n",
       "    </tr>\n",
       "    <tr>\n",
       "      <th>2</th>\n",
       "      <td>Idea</td>\n",
       "      <td>0.063442</td>\n",
       "      <td>0.088771</td>\n",
       "      <td>0.847787</td>\n",
       "      <td>0.153640</td>\n",
       "    </tr>\n",
       "    <tr>\n",
       "      <th>9</th>\n",
       "      <td>Vodafone</td>\n",
       "      <td>0.091803</td>\n",
       "      <td>0.203193</td>\n",
       "      <td>0.705004</td>\n",
       "      <td>0.151352</td>\n",
       "    </tr>\n",
       "    <tr>\n",
       "      <th>1</th>\n",
       "      <td>BSNL</td>\n",
       "      <td>0.130669</td>\n",
       "      <td>0.170076</td>\n",
       "      <td>0.699255</td>\n",
       "      <td>0.082180</td>\n",
       "    </tr>\n",
       "    <tr>\n",
       "      <th>8</th>\n",
       "      <td>VI</td>\n",
       "      <td>0.071338</td>\n",
       "      <td>0.145209</td>\n",
       "      <td>0.783453</td>\n",
       "      <td>0.021641</td>\n",
       "    </tr>\n",
       "    <tr>\n",
       "      <th>3</th>\n",
       "      <td>MTNL</td>\n",
       "      <td>0.152926</td>\n",
       "      <td>0.131264</td>\n",
       "      <td>0.715810</td>\n",
       "      <td>0.014128</td>\n",
       "    </tr>\n",
       "    <tr>\n",
       "      <th>4</th>\n",
       "      <td>Other</td>\n",
       "      <td>0.117578</td>\n",
       "      <td>0.224145</td>\n",
       "      <td>0.658278</td>\n",
       "      <td>0.011615</td>\n",
       "    </tr>\n",
       "    <tr>\n",
       "      <th>6</th>\n",
       "      <td>Tata</td>\n",
       "      <td>0.000000</td>\n",
       "      <td>0.000000</td>\n",
       "      <td>1.000000</td>\n",
       "      <td>0.000005</td>\n",
       "    </tr>\n",
       "    <tr>\n",
       "      <th>7</th>\n",
       "      <td>Telenor</td>\n",
       "      <td>0.000000</td>\n",
       "      <td>0.000000</td>\n",
       "      <td>1.000000</td>\n",
       "      <td>0.000005</td>\n",
       "    </tr>\n",
       "  </tbody>\n",
       "</table>\n",
       "</div>"
      ],
      "text/plain": [
       "   operator  Call Dropped  Poor Voice Quality  Satisfactory  proportion\n",
       "5      RJio      0.110153            0.251618      0.638229    0.308381\n",
       "0    Airtel      0.128274            0.261168      0.610558    0.257055\n",
       "2      Idea      0.063442            0.088771      0.847787    0.153640\n",
       "9  Vodafone      0.091803            0.203193      0.705004    0.151352\n",
       "1      BSNL      0.130669            0.170076      0.699255    0.082180\n",
       "8        VI      0.071338            0.145209      0.783453    0.021641\n",
       "3      MTNL      0.152926            0.131264      0.715810    0.014128\n",
       "4     Other      0.117578            0.224145      0.658278    0.011615\n",
       "6      Tata      0.000000            0.000000      1.000000    0.000005\n",
       "7   Telenor      0.000000            0.000000      1.000000    0.000005"
      ]
     },
     "execution_count": 256,
     "metadata": {},
     "output_type": "execute_result"
    }
   ],
   "source": [
    "op_drop_df.sort_values(by='proportion',ascending=False)"
   ]
  },
  {
   "cell_type": "markdown",
   "metadata": {},
   "source": [
    "Insights:\n",
    "\n",
    "1. Rjio has highest proportion of about 30%, although 25% of customers has raised Poor Voice Quality issues regarding RJio.\n",
    "2. Idea has highest Satisfactory rate of 85%.\n",
    "3. Airtel has highest Poor Voice Quality Issue rate of 26%.   "
   ]
  },
  {
   "cell_type": "markdown",
   "metadata": {},
   "source": [
    "#### Network with call drop category"
   ]
  },
  {
   "cell_type": "code",
   "execution_count": 257,
   "metadata": {},
   "outputs": [],
   "source": [
    "nw_df = pd.DataFrame(combined_df['network_type'].value_counts(normalize=True).reset_index().rename(columns={'index':'network_type','network_type':'proportion'}))"
   ]
  },
  {
   "cell_type": "code",
   "execution_count": 258,
   "metadata": {},
   "outputs": [
    {
     "data": {
      "text/html": [
       "<div>\n",
       "<style scoped>\n",
       "    .dataframe tbody tr th:only-of-type {\n",
       "        vertical-align: middle;\n",
       "    }\n",
       "\n",
       "    .dataframe tbody tr th {\n",
       "        vertical-align: top;\n",
       "    }\n",
       "\n",
       "    .dataframe thead th {\n",
       "        text-align: right;\n",
       "    }\n",
       "</style>\n",
       "<table border=\"1\" class=\"dataframe\">\n",
       "  <thead>\n",
       "    <tr style=\"text-align: right;\">\n",
       "      <th></th>\n",
       "      <th>network_type</th>\n",
       "      <th>proportion</th>\n",
       "    </tr>\n",
       "  </thead>\n",
       "  <tbody>\n",
       "    <tr>\n",
       "      <th>0</th>\n",
       "      <td>4G</td>\n",
       "      <td>0.713132</td>\n",
       "    </tr>\n",
       "    <tr>\n",
       "      <th>1</th>\n",
       "      <td>Unknown</td>\n",
       "      <td>0.133832</td>\n",
       "    </tr>\n",
       "    <tr>\n",
       "      <th>2</th>\n",
       "      <td>3G</td>\n",
       "      <td>0.111504</td>\n",
       "    </tr>\n",
       "    <tr>\n",
       "      <th>3</th>\n",
       "      <td>2G</td>\n",
       "      <td>0.041532</td>\n",
       "    </tr>\n",
       "  </tbody>\n",
       "</table>\n",
       "</div>"
      ],
      "text/plain": [
       "  network_type  proportion\n",
       "0           4G    0.713132\n",
       "1      Unknown    0.133832\n",
       "2           3G    0.111504\n",
       "3           2G    0.041532"
      ]
     },
     "execution_count": 258,
     "metadata": {},
     "output_type": "execute_result"
    }
   ],
   "source": [
    "nw_df"
   ]
  },
  {
   "cell_type": "code",
   "execution_count": 259,
   "metadata": {},
   "outputs": [
    {
     "data": {
      "text/html": [
       "<div>\n",
       "<style scoped>\n",
       "    .dataframe tbody tr th:only-of-type {\n",
       "        vertical-align: middle;\n",
       "    }\n",
       "\n",
       "    .dataframe tbody tr th {\n",
       "        vertical-align: top;\n",
       "    }\n",
       "\n",
       "    .dataframe thead th {\n",
       "        text-align: right;\n",
       "    }\n",
       "</style>\n",
       "<table border=\"1\" class=\"dataframe\">\n",
       "  <thead>\n",
       "    <tr style=\"text-align: right;\">\n",
       "      <th>call_drop_category</th>\n",
       "      <th>Call Dropped</th>\n",
       "      <th>Poor Voice Quality</th>\n",
       "      <th>Satisfactory</th>\n",
       "    </tr>\n",
       "    <tr>\n",
       "      <th>network_type</th>\n",
       "      <th></th>\n",
       "      <th></th>\n",
       "      <th></th>\n",
       "    </tr>\n",
       "  </thead>\n",
       "  <tbody>\n",
       "    <tr>\n",
       "      <th>3G</th>\n",
       "      <td>0.114724</td>\n",
       "      <td>0.167391</td>\n",
       "      <td>0.717885</td>\n",
       "    </tr>\n",
       "    <tr>\n",
       "      <th>4G</th>\n",
       "      <td>0.104653</td>\n",
       "      <td>0.212081</td>\n",
       "      <td>0.683266</td>\n",
       "    </tr>\n",
       "    <tr>\n",
       "      <th>Unknown</th>\n",
       "      <td>0.104340</td>\n",
       "      <td>0.235807</td>\n",
       "      <td>0.659853</td>\n",
       "    </tr>\n",
       "    <tr>\n",
       "      <th>2G</th>\n",
       "      <td>0.120738</td>\n",
       "      <td>0.238032</td>\n",
       "      <td>0.641231</td>\n",
       "    </tr>\n",
       "  </tbody>\n",
       "</table>\n",
       "</div>"
      ],
      "text/plain": [
       "call_drop_category  Call Dropped  Poor Voice Quality  Satisfactory\n",
       "network_type                                                      \n",
       "3G                      0.114724            0.167391      0.717885\n",
       "4G                      0.104653            0.212081      0.683266\n",
       "Unknown                 0.104340            0.235807      0.659853\n",
       "2G                      0.120738            0.238032      0.641231"
      ]
     },
     "execution_count": 259,
     "metadata": {},
     "output_type": "execute_result"
    }
   ],
   "source": [
    "nw_drop = combined_df.groupby('network_type')['call_drop_category'].value_counts(normalize=True)\n",
    "nw_drop_df = nw_drop.unstack(fill_value=0)\n",
    "nw_drop_df.sort_values(by='Satisfactory',ascending=False)"
   ]
  },
  {
   "cell_type": "code",
   "execution_count": 260,
   "metadata": {},
   "outputs": [],
   "source": [
    "nw_drop_df = pd.merge(nw_drop_df, nw_df, on='network_type')"
   ]
  },
  {
   "cell_type": "code",
   "execution_count": 261,
   "metadata": {},
   "outputs": [
    {
     "data": {
      "text/html": [
       "<div>\n",
       "<style scoped>\n",
       "    .dataframe tbody tr th:only-of-type {\n",
       "        vertical-align: middle;\n",
       "    }\n",
       "\n",
       "    .dataframe tbody tr th {\n",
       "        vertical-align: top;\n",
       "    }\n",
       "\n",
       "    .dataframe thead th {\n",
       "        text-align: right;\n",
       "    }\n",
       "</style>\n",
       "<table border=\"1\" class=\"dataframe\">\n",
       "  <thead>\n",
       "    <tr style=\"text-align: right;\">\n",
       "      <th></th>\n",
       "      <th>network_type</th>\n",
       "      <th>Call Dropped</th>\n",
       "      <th>Poor Voice Quality</th>\n",
       "      <th>Satisfactory</th>\n",
       "      <th>proportion</th>\n",
       "    </tr>\n",
       "  </thead>\n",
       "  <tbody>\n",
       "    <tr>\n",
       "      <th>2</th>\n",
       "      <td>4G</td>\n",
       "      <td>0.104653</td>\n",
       "      <td>0.212081</td>\n",
       "      <td>0.683266</td>\n",
       "      <td>0.713132</td>\n",
       "    </tr>\n",
       "    <tr>\n",
       "      <th>3</th>\n",
       "      <td>Unknown</td>\n",
       "      <td>0.104340</td>\n",
       "      <td>0.235807</td>\n",
       "      <td>0.659853</td>\n",
       "      <td>0.133832</td>\n",
       "    </tr>\n",
       "    <tr>\n",
       "      <th>1</th>\n",
       "      <td>3G</td>\n",
       "      <td>0.114724</td>\n",
       "      <td>0.167391</td>\n",
       "      <td>0.717885</td>\n",
       "      <td>0.111504</td>\n",
       "    </tr>\n",
       "    <tr>\n",
       "      <th>0</th>\n",
       "      <td>2G</td>\n",
       "      <td>0.120738</td>\n",
       "      <td>0.238032</td>\n",
       "      <td>0.641231</td>\n",
       "      <td>0.041532</td>\n",
       "    </tr>\n",
       "  </tbody>\n",
       "</table>\n",
       "</div>"
      ],
      "text/plain": [
       "  network_type  Call Dropped  Poor Voice Quality  Satisfactory  proportion\n",
       "2           4G      0.104653            0.212081      0.683266    0.713132\n",
       "3      Unknown      0.104340            0.235807      0.659853    0.133832\n",
       "1           3G      0.114724            0.167391      0.717885    0.111504\n",
       "0           2G      0.120738            0.238032      0.641231    0.041532"
      ]
     },
     "execution_count": 261,
     "metadata": {},
     "output_type": "execute_result"
    }
   ],
   "source": [
    "nw_drop_df.sort_values(by='proportion',ascending=False)"
   ]
  },
  {
   "cell_type": "markdown",
   "metadata": {},
   "source": [
    "Insight:\n",
    "\n",
    "1. 4G network type contribute most of the customer reviews(71%).\n",
    "2. 3G network type has highest satisfactory rate of 71% and lowest Poor Voice Quality Issue rate of 16%."
   ]
  },
  {
   "cell_type": "markdown",
   "metadata": {},
   "source": [
    "#### We will combine Call dropped issue and Poor Voice Quality issue for simpifying analysis."
   ]
  },
  {
   "cell_type": "code",
   "execution_count": 263,
   "metadata": {},
   "outputs": [],
   "source": [
    "combined_df['call_drop_issue'] = combined_df['call_drop_category'].apply(lambda x : 0 if x == 'Satisfactory' else 1)"
   ]
  },
  {
   "cell_type": "code",
   "execution_count": 264,
   "metadata": {},
   "outputs": [
    {
     "data": {
      "text/plain": [
       "0    149512\n",
       "1     69422\n",
       "Name: call_drop_issue, dtype: int64"
      ]
     },
     "execution_count": 264,
     "metadata": {},
     "output_type": "execute_result"
    }
   ],
   "source": [
    "combined_df['call_drop_issue'].value_counts()"
   ]
  },
  {
   "cell_type": "markdown",
   "metadata": {},
   "source": [
    "#### Distribution of call drop issues wrt lattitude and longitude"
   ]
  },
  {
   "cell_type": "code",
   "execution_count": 266,
   "metadata": {},
   "outputs": [
    {
     "data": {
      "image/png": "[encoded data removed]",
      "text/plain": [
       "<Figure size 432x288 with 2 Axes>"
      ]
     },
     "metadata": {
      "needs_background": "light"
     },
     "output_type": "display_data"
    }
   ],
   "source": [
    "import matplotlib.pyplot as plt\n",
    "\n",
    "# Assuming df is your DataFrame with 'latitude', 'longitude', and 'target' columns\n",
    "plt.scatter(combined_df['longitude'], combined_df['latitude'], c=combined_df['call_drop_issue'],cmap='tab10',alpha=0.5)\n",
    "plt.colorbar()\n",
    "plt.xlabel('Longitude')\n",
    "plt.ylabel('Latitude')\n",
    "plt.title('Spatial Distribution with call drop issue')\n",
    "plt.show()\n"
   ]
  },
  {
   "cell_type": "markdown",
   "metadata": {},
   "source": [
    "#### further analysis with respect to latitude and longitude"
   ]
  },
  {
   "cell_type": "code",
   "execution_count": 267,
   "metadata": {},
   "outputs": [
    {
     "data": {
      "text/plain": [
       "0.25    -1.000000\n",
       "0.50    17.632826\n",
       "0.75    22.827067\n",
       "0.90    26.959622\n",
       "1.00    34.374122\n",
       "Name: latitude, dtype: float64"
      ]
     },
     "execution_count": 267,
     "metadata": {},
     "output_type": "execute_result"
    }
   ],
   "source": [
    "combined_df['latitude'].quantile([0.25, 0.5, 0.75, 0.9, 1.0])"
   ]
  },
  {
   "cell_type": "code",
   "execution_count": 268,
   "metadata": {},
   "outputs": [],
   "source": [
    "combined_df['latitude_bkt'] = pd.cut(combined_df['latitude'],bins=[-1, 17, 22, 26, 42])"
   ]
  },
  {
   "cell_type": "code",
   "execution_count": 269,
   "metadata": {},
   "outputs": [
    {
     "data": {
      "text/plain": [
       "(17, 22]    42904\n",
       "(22, 26]    38141\n",
       "(26, 42]    32927\n",
       "(-1, 17]    30910\n",
       "Name: latitude_bkt, dtype: int64"
      ]
     },
     "execution_count": 269,
     "metadata": {},
     "output_type": "execute_result"
    }
   ],
   "source": [
    "combined_df['latitude_bkt'].value_counts()"
   ]
  },
  {
   "cell_type": "code",
   "execution_count": 270,
   "metadata": {},
   "outputs": [
    {
     "data": {
      "text/plain": [
       "latitude_bkt\n",
       "(-1, 17]    0.242543\n",
       "(17, 22]    0.309062\n",
       "(22, 26]    0.199549\n",
       "(26, 42]    0.423938\n",
       "Name: call_drop_issue, dtype: float64"
      ]
     },
     "execution_count": 270,
     "metadata": {},
     "output_type": "execute_result"
    }
   ],
   "source": [
    "combined_df.groupby('latitude_bkt')['call_drop_issue'].mean()"
   ]
  },
  {
   "cell_type": "markdown",
   "metadata": {},
   "source": [
    "1. If latitude is higher than 26, there are higher chances of (42%) call drop issue(either poor quality or call drop)\n",
    "2. In the bucket of latitude 22 to 26, there is lesser chance of call drop issue."
   ]
  },
  {
   "cell_type": "code",
   "execution_count": 271,
   "metadata": {},
   "outputs": [
    {
     "data": {
      "text/plain": [
       "0.00     -1.000000\n",
       "0.25     -1.000000\n",
       "0.50     75.372435\n",
       "0.75     78.748581\n",
       "0.90     84.144142\n",
       "1.00    103.793055\n",
       "Name: longitude, dtype: float64"
      ]
     },
     "execution_count": 271,
     "metadata": {},
     "output_type": "execute_result"
    }
   ],
   "source": [
    "combined_df['longitude'].quantile([0, 0.25, 0.5, 0.75, 0.9, 1.0])"
   ]
  },
  {
   "cell_type": "code",
   "execution_count": 272,
   "metadata": {},
   "outputs": [],
   "source": [
    "combined_df['longitude_bkt'] = pd.cut(combined_df['longitude'],bins=[-180, -2, -1, 75, 78, 85, 104])"
   ]
  },
  {
   "cell_type": "code",
   "execution_count": 273,
   "metadata": {},
   "outputs": [
    {
     "data": {
      "text/plain": [
       "longitude_bkt\n",
       "(-180, -2]         NaN\n",
       "(-2, -1]      0.365892\n",
       "(-1, 75]      0.356019\n",
       "(75, 78]      0.341504\n",
       "(78, 85]      0.220883\n",
       "(85, 104]     0.228587\n",
       "Name: call_drop_issue, dtype: float64"
      ]
     },
     "execution_count": 273,
     "metadata": {},
     "output_type": "execute_result"
    }
   ],
   "source": [
    "combined_df.groupby('longitude_bkt')['call_drop_issue'].mean()"
   ]
  },
  {
   "cell_type": "markdown",
   "metadata": {},
   "source": [
    "1. In the bucket of 78 to 104 there are lesser chances of call drop issue."
   ]
  },
  {
   "cell_type": "markdown",
   "metadata": {},
   "source": [
    "#### In out travelling analysis"
   ]
  },
  {
   "cell_type": "code",
   "execution_count": 274,
   "metadata": {},
   "outputs": [],
   "source": [
    "inout_df = pd.DataFrame(combined_df['in_out_travelling'].value_counts(normalize=True).reset_index().rename(columns={'index':'in_out_travelling','in_out_travelling':'proportion'}))"
   ]
  },
  {
   "cell_type": "code",
   "execution_count": 275,
   "metadata": {},
   "outputs": [
    {
     "data": {
      "text/html": [
       "<div>\n",
       "<style scoped>\n",
       "    .dataframe tbody tr th:only-of-type {\n",
       "        vertical-align: middle;\n",
       "    }\n",
       "\n",
       "    .dataframe tbody tr th {\n",
       "        vertical-align: top;\n",
       "    }\n",
       "\n",
       "    .dataframe thead th {\n",
       "        text-align: right;\n",
       "    }\n",
       "</style>\n",
       "<table border=\"1\" class=\"dataframe\">\n",
       "  <thead>\n",
       "    <tr style=\"text-align: right;\">\n",
       "      <th>call_drop_category</th>\n",
       "      <th>Call Dropped</th>\n",
       "      <th>Poor Voice Quality</th>\n",
       "      <th>Satisfactory</th>\n",
       "    </tr>\n",
       "    <tr>\n",
       "      <th>in_out_travelling</th>\n",
       "      <th></th>\n",
       "      <th></th>\n",
       "      <th></th>\n",
       "    </tr>\n",
       "  </thead>\n",
       "  <tbody>\n",
       "    <tr>\n",
       "      <th>Travelling</th>\n",
       "      <td>0.063828</td>\n",
       "      <td>0.219523</td>\n",
       "      <td>0.716648</td>\n",
       "    </tr>\n",
       "    <tr>\n",
       "      <th>Indoor</th>\n",
       "      <td>0.108893</td>\n",
       "      <td>0.197018</td>\n",
       "      <td>0.694089</td>\n",
       "    </tr>\n",
       "    <tr>\n",
       "      <th>Outdoor</th>\n",
       "      <td>0.111808</td>\n",
       "      <td>0.248375</td>\n",
       "      <td>0.639818</td>\n",
       "    </tr>\n",
       "  </tbody>\n",
       "</table>\n",
       "</div>"
      ],
      "text/plain": [
       "call_drop_category  Call Dropped  Poor Voice Quality  Satisfactory\n",
       "in_out_travelling                                                 \n",
       "Travelling              0.063828            0.219523      0.716648\n",
       "Indoor                  0.108893            0.197018      0.694089\n",
       "Outdoor                 0.111808            0.248375      0.639818"
      ]
     },
     "execution_count": 275,
     "metadata": {},
     "output_type": "execute_result"
    }
   ],
   "source": [
    "inout_drop = combined_df.groupby('in_out_travelling')['call_drop_category'].value_counts(normalize=True)\n",
    "inouot_drop_df = inout_drop.unstack(fill_value=0)\n",
    "inouot_drop_df.sort_values(by='Satisfactory',ascending=False)"
   ]
  },
  {
   "cell_type": "code",
   "execution_count": 276,
   "metadata": {},
   "outputs": [],
   "source": [
    "inouot_drop_df = pd.merge(inouot_drop_df, inout_df, on='in_out_travelling')"
   ]
  },
  {
   "cell_type": "code",
   "execution_count": 277,
   "metadata": {},
   "outputs": [
    {
     "data": {
      "text/html": [
       "<div>\n",
       "<style scoped>\n",
       "    .dataframe tbody tr th:only-of-type {\n",
       "        vertical-align: middle;\n",
       "    }\n",
       "\n",
       "    .dataframe tbody tr th {\n",
       "        vertical-align: top;\n",
       "    }\n",
       "\n",
       "    .dataframe thead th {\n",
       "        text-align: right;\n",
       "    }\n",
       "</style>\n",
       "<table border=\"1\" class=\"dataframe\">\n",
       "  <thead>\n",
       "    <tr style=\"text-align: right;\">\n",
       "      <th></th>\n",
       "      <th>in_out_travelling</th>\n",
       "      <th>Call Dropped</th>\n",
       "      <th>Poor Voice Quality</th>\n",
       "      <th>Satisfactory</th>\n",
       "      <th>proportion</th>\n",
       "    </tr>\n",
       "  </thead>\n",
       "  <tbody>\n",
       "    <tr>\n",
       "      <th>0</th>\n",
       "      <td>Indoor</td>\n",
       "      <td>0.108893</td>\n",
       "      <td>0.197018</td>\n",
       "      <td>0.694089</td>\n",
       "      <td>0.693908</td>\n",
       "    </tr>\n",
       "    <tr>\n",
       "      <th>1</th>\n",
       "      <td>Outdoor</td>\n",
       "      <td>0.111808</td>\n",
       "      <td>0.248375</td>\n",
       "      <td>0.639818</td>\n",
       "      <td>0.235391</td>\n",
       "    </tr>\n",
       "    <tr>\n",
       "      <th>2</th>\n",
       "      <td>Travelling</td>\n",
       "      <td>0.063828</td>\n",
       "      <td>0.219523</td>\n",
       "      <td>0.716648</td>\n",
       "      <td>0.070702</td>\n",
       "    </tr>\n",
       "  </tbody>\n",
       "</table>\n",
       "</div>"
      ],
      "text/plain": [
       "  in_out_travelling  Call Dropped  Poor Voice Quality  Satisfactory  \\\n",
       "0            Indoor      0.108893            0.197018      0.694089   \n",
       "1           Outdoor      0.111808            0.248375      0.639818   \n",
       "2        Travelling      0.063828            0.219523      0.716648   \n",
       "\n",
       "   proportion  \n",
       "0    0.693908  \n",
       "1    0.235391  \n",
       "2    0.070702  "
      ]
     },
     "execution_count": 277,
     "metadata": {},
     "output_type": "execute_result"
    }
   ],
   "source": [
    "inouot_drop_df.sort_values(by='proportion',ascending=False)"
   ]
  },
  {
   "cell_type": "markdown",
   "metadata": {},
   "source": [
    "1. Supprisigly for Travelling there are on an average only 6% of call drop issues raised.\n",
    "2. For Outdoor, there is highest chance of 24% of Poor Voice quality."
   ]
  },
  {
   "cell_type": "markdown",
   "metadata": {},
   "source": [
    "### Monthly analysis"
   ]
  },
  {
   "cell_type": "code",
   "execution_count": 281,
   "metadata": {},
   "outputs": [],
   "source": [
    "month_df = pd.DataFrame(combined_df['month'].value_counts(normalize=True).reset_index().rename(columns={'index':'month','month':'proportion'}))"
   ]
  },
  {
   "cell_type": "code",
   "execution_count": 282,
   "metadata": {},
   "outputs": [
    {
     "data": {
      "text/html": [
       "<div>\n",
       "<style scoped>\n",
       "    .dataframe tbody tr th:only-of-type {\n",
       "        vertical-align: middle;\n",
       "    }\n",
       "\n",
       "    .dataframe tbody tr th {\n",
       "        vertical-align: top;\n",
       "    }\n",
       "\n",
       "    .dataframe thead th {\n",
       "        text-align: right;\n",
       "    }\n",
       "</style>\n",
       "<table border=\"1\" class=\"dataframe\">\n",
       "  <thead>\n",
       "    <tr style=\"text-align: right;\">\n",
       "      <th></th>\n",
       "      <th>month</th>\n",
       "      <th>proportion</th>\n",
       "    </tr>\n",
       "  </thead>\n",
       "  <tbody>\n",
       "    <tr>\n",
       "      <th>0</th>\n",
       "      <td>January</td>\n",
       "      <td>0.165438</td>\n",
       "    </tr>\n",
       "    <tr>\n",
       "      <th>1</th>\n",
       "      <td>February</td>\n",
       "      <td>0.115350</td>\n",
       "    </tr>\n",
       "    <tr>\n",
       "      <th>2</th>\n",
       "      <td>December</td>\n",
       "      <td>0.098509</td>\n",
       "    </tr>\n",
       "    <tr>\n",
       "      <th>3</th>\n",
       "      <td>November</td>\n",
       "      <td>0.096682</td>\n",
       "    </tr>\n",
       "    <tr>\n",
       "      <th>4</th>\n",
       "      <td>March</td>\n",
       "      <td>0.091260</td>\n",
       "    </tr>\n",
       "    <tr>\n",
       "      <th>5</th>\n",
       "      <td>April</td>\n",
       "      <td>0.070816</td>\n",
       "    </tr>\n",
       "    <tr>\n",
       "      <th>6</th>\n",
       "      <td>June</td>\n",
       "      <td>0.065659</td>\n",
       "    </tr>\n",
       "    <tr>\n",
       "      <th>7</th>\n",
       "      <td>May</td>\n",
       "      <td>0.064741</td>\n",
       "    </tr>\n",
       "    <tr>\n",
       "      <th>8</th>\n",
       "      <td>July</td>\n",
       "      <td>0.062147</td>\n",
       "    </tr>\n",
       "    <tr>\n",
       "      <th>9</th>\n",
       "      <td>August</td>\n",
       "      <td>0.059808</td>\n",
       "    </tr>\n",
       "    <tr>\n",
       "      <th>10</th>\n",
       "      <td>September</td>\n",
       "      <td>0.054880</td>\n",
       "    </tr>\n",
       "    <tr>\n",
       "      <th>11</th>\n",
       "      <td>October</td>\n",
       "      <td>0.054711</td>\n",
       "    </tr>\n",
       "  </tbody>\n",
       "</table>\n",
       "</div>"
      ],
      "text/plain": [
       "        month  proportion\n",
       "0     January    0.165438\n",
       "1    February    0.115350\n",
       "2    December    0.098509\n",
       "3    November    0.096682\n",
       "4       March    0.091260\n",
       "5       April    0.070816\n",
       "6        June    0.065659\n",
       "7         May    0.064741\n",
       "8        July    0.062147\n",
       "9      August    0.059808\n",
       "10  September    0.054880\n",
       "11    October    0.054711"
      ]
     },
     "execution_count": 282,
     "metadata": {},
     "output_type": "execute_result"
    }
   ],
   "source": [
    "month_df"
   ]
  },
  {
   "cell_type": "code",
   "execution_count": 280,
   "metadata": {},
   "outputs": [
    {
     "data": {
      "text/html": [
       "<div>\n",
       "<style scoped>\n",
       "    .dataframe tbody tr th:only-of-type {\n",
       "        vertical-align: middle;\n",
       "    }\n",
       "\n",
       "    .dataframe tbody tr th {\n",
       "        vertical-align: top;\n",
       "    }\n",
       "\n",
       "    .dataframe thead th {\n",
       "        text-align: right;\n",
       "    }\n",
       "</style>\n",
       "<table border=\"1\" class=\"dataframe\">\n",
       "  <thead>\n",
       "    <tr style=\"text-align: right;\">\n",
       "      <th>call_drop_category</th>\n",
       "      <th>Call Dropped</th>\n",
       "      <th>Poor Voice Quality</th>\n",
       "      <th>Satisfactory</th>\n",
       "    </tr>\n",
       "    <tr>\n",
       "      <th>month</th>\n",
       "      <th></th>\n",
       "      <th></th>\n",
       "      <th></th>\n",
       "    </tr>\n",
       "  </thead>\n",
       "  <tbody>\n",
       "    <tr>\n",
       "      <th>November</th>\n",
       "      <td>0.041763</td>\n",
       "      <td>0.088487</td>\n",
       "      <td>0.869750</td>\n",
       "    </tr>\n",
       "    <tr>\n",
       "      <th>December</th>\n",
       "      <td>0.049937</td>\n",
       "      <td>0.100153</td>\n",
       "      <td>0.849910</td>\n",
       "    </tr>\n",
       "    <tr>\n",
       "      <th>January</th>\n",
       "      <td>0.087327</td>\n",
       "      <td>0.214826</td>\n",
       "      <td>0.697846</td>\n",
       "    </tr>\n",
       "    <tr>\n",
       "      <th>April</th>\n",
       "      <td>0.115325</td>\n",
       "      <td>0.216718</td>\n",
       "      <td>0.667957</td>\n",
       "    </tr>\n",
       "    <tr>\n",
       "      <th>March</th>\n",
       "      <td>0.083183</td>\n",
       "      <td>0.251552</td>\n",
       "      <td>0.665265</td>\n",
       "    </tr>\n",
       "    <tr>\n",
       "      <th>February</th>\n",
       "      <td>0.093965</td>\n",
       "      <td>0.243328</td>\n",
       "      <td>0.662707</td>\n",
       "    </tr>\n",
       "    <tr>\n",
       "      <th>October</th>\n",
       "      <td>0.108365</td>\n",
       "      <td>0.259309</td>\n",
       "      <td>0.632326</td>\n",
       "    </tr>\n",
       "    <tr>\n",
       "      <th>May</th>\n",
       "      <td>0.152533</td>\n",
       "      <td>0.229505</td>\n",
       "      <td>0.617962</td>\n",
       "    </tr>\n",
       "    <tr>\n",
       "      <th>June</th>\n",
       "      <td>0.154713</td>\n",
       "      <td>0.243130</td>\n",
       "      <td>0.602157</td>\n",
       "    </tr>\n",
       "    <tr>\n",
       "      <th>September</th>\n",
       "      <td>0.148564</td>\n",
       "      <td>0.255930</td>\n",
       "      <td>0.595506</td>\n",
       "    </tr>\n",
       "    <tr>\n",
       "      <th>August</th>\n",
       "      <td>0.161143</td>\n",
       "      <td>0.253628</td>\n",
       "      <td>0.585230</td>\n",
       "    </tr>\n",
       "    <tr>\n",
       "      <th>July</th>\n",
       "      <td>0.203366</td>\n",
       "      <td>0.259738</td>\n",
       "      <td>0.536895</td>\n",
       "    </tr>\n",
       "  </tbody>\n",
       "</table>\n",
       "</div>"
      ],
      "text/plain": [
       "call_drop_category  Call Dropped  Poor Voice Quality  Satisfactory\n",
       "month                                                             \n",
       "November                0.041763            0.088487      0.869750\n",
       "December                0.049937            0.100153      0.849910\n",
       "January                 0.087327            0.214826      0.697846\n",
       "April                   0.115325            0.216718      0.667957\n",
       "March                   0.083183            0.251552      0.665265\n",
       "February                0.093965            0.243328      0.662707\n",
       "October                 0.108365            0.259309      0.632326\n",
       "May                     0.152533            0.229505      0.617962\n",
       "June                    0.154713            0.243130      0.602157\n",
       "September               0.148564            0.255930      0.595506\n",
       "August                  0.161143            0.253628      0.585230\n",
       "July                    0.203366            0.259738      0.536895"
      ]
     },
     "execution_count": 280,
     "metadata": {},
     "output_type": "execute_result"
    }
   ],
   "source": [
    "month_drop = combined_df.groupby('month')['call_drop_category'].value_counts(normalize=True)\n",
    "month_drop_df = month_drop.unstack(fill_value=0)\n",
    "month_drop_df.sort_values(by='Satisfactory',ascending=False)"
   ]
  },
  {
   "cell_type": "code",
   "execution_count": 283,
   "metadata": {},
   "outputs": [],
   "source": [
    "month_drop_df = pd.merge(month_drop_df, month_df, on='month')"
   ]
  },
  {
   "cell_type": "code",
   "execution_count": 284,
   "metadata": {},
   "outputs": [
    {
     "data": {
      "text/html": [
       "<div>\n",
       "<style scoped>\n",
       "    .dataframe tbody tr th:only-of-type {\n",
       "        vertical-align: middle;\n",
       "    }\n",
       "\n",
       "    .dataframe tbody tr th {\n",
       "        vertical-align: top;\n",
       "    }\n",
       "\n",
       "    .dataframe thead th {\n",
       "        text-align: right;\n",
       "    }\n",
       "</style>\n",
       "<table border=\"1\" class=\"dataframe\">\n",
       "  <thead>\n",
       "    <tr style=\"text-align: right;\">\n",
       "      <th></th>\n",
       "      <th>month</th>\n",
       "      <th>Call Dropped</th>\n",
       "      <th>Poor Voice Quality</th>\n",
       "      <th>Satisfactory</th>\n",
       "      <th>proportion</th>\n",
       "    </tr>\n",
       "  </thead>\n",
       "  <tbody>\n",
       "    <tr>\n",
       "      <th>4</th>\n",
       "      <td>January</td>\n",
       "      <td>0.087327</td>\n",
       "      <td>0.214826</td>\n",
       "      <td>0.697846</td>\n",
       "      <td>0.165438</td>\n",
       "    </tr>\n",
       "    <tr>\n",
       "      <th>3</th>\n",
       "      <td>February</td>\n",
       "      <td>0.093965</td>\n",
       "      <td>0.243328</td>\n",
       "      <td>0.662707</td>\n",
       "      <td>0.115350</td>\n",
       "    </tr>\n",
       "    <tr>\n",
       "      <th>2</th>\n",
       "      <td>December</td>\n",
       "      <td>0.049937</td>\n",
       "      <td>0.100153</td>\n",
       "      <td>0.849910</td>\n",
       "      <td>0.098509</td>\n",
       "    </tr>\n",
       "    <tr>\n",
       "      <th>9</th>\n",
       "      <td>November</td>\n",
       "      <td>0.041763</td>\n",
       "      <td>0.088487</td>\n",
       "      <td>0.869750</td>\n",
       "      <td>0.096682</td>\n",
       "    </tr>\n",
       "    <tr>\n",
       "      <th>7</th>\n",
       "      <td>March</td>\n",
       "      <td>0.083183</td>\n",
       "      <td>0.251552</td>\n",
       "      <td>0.665265</td>\n",
       "      <td>0.091260</td>\n",
       "    </tr>\n",
       "    <tr>\n",
       "      <th>0</th>\n",
       "      <td>April</td>\n",
       "      <td>0.115325</td>\n",
       "      <td>0.216718</td>\n",
       "      <td>0.667957</td>\n",
       "      <td>0.070816</td>\n",
       "    </tr>\n",
       "    <tr>\n",
       "      <th>6</th>\n",
       "      <td>June</td>\n",
       "      <td>0.154713</td>\n",
       "      <td>0.243130</td>\n",
       "      <td>0.602157</td>\n",
       "      <td>0.065659</td>\n",
       "    </tr>\n",
       "    <tr>\n",
       "      <th>8</th>\n",
       "      <td>May</td>\n",
       "      <td>0.152533</td>\n",
       "      <td>0.229505</td>\n",
       "      <td>0.617962</td>\n",
       "      <td>0.064741</td>\n",
       "    </tr>\n",
       "    <tr>\n",
       "      <th>5</th>\n",
       "      <td>July</td>\n",
       "      <td>0.203366</td>\n",
       "      <td>0.259738</td>\n",
       "      <td>0.536895</td>\n",
       "      <td>0.062147</td>\n",
       "    </tr>\n",
       "    <tr>\n",
       "      <th>1</th>\n",
       "      <td>August</td>\n",
       "      <td>0.161143</td>\n",
       "      <td>0.253628</td>\n",
       "      <td>0.585230</td>\n",
       "      <td>0.059808</td>\n",
       "    </tr>\n",
       "    <tr>\n",
       "      <th>11</th>\n",
       "      <td>September</td>\n",
       "      <td>0.148564</td>\n",
       "      <td>0.255930</td>\n",
       "      <td>0.595506</td>\n",
       "      <td>0.054880</td>\n",
       "    </tr>\n",
       "    <tr>\n",
       "      <th>10</th>\n",
       "      <td>October</td>\n",
       "      <td>0.108365</td>\n",
       "      <td>0.259309</td>\n",
       "      <td>0.632326</td>\n",
       "      <td>0.054711</td>\n",
       "    </tr>\n",
       "  </tbody>\n",
       "</table>\n",
       "</div>"
      ],
      "text/plain": [
       "        month  Call Dropped  Poor Voice Quality  Satisfactory  proportion\n",
       "4     January      0.087327            0.214826      0.697846    0.165438\n",
       "3    February      0.093965            0.243328      0.662707    0.115350\n",
       "2    December      0.049937            0.100153      0.849910    0.098509\n",
       "9    November      0.041763            0.088487      0.869750    0.096682\n",
       "7       March      0.083183            0.251552      0.665265    0.091260\n",
       "0       April      0.115325            0.216718      0.667957    0.070816\n",
       "6        June      0.154713            0.243130      0.602157    0.065659\n",
       "8         May      0.152533            0.229505      0.617962    0.064741\n",
       "5        July      0.203366            0.259738      0.536895    0.062147\n",
       "1      August      0.161143            0.253628      0.585230    0.059808\n",
       "11  September      0.148564            0.255930      0.595506    0.054880\n",
       "10    October      0.108365            0.259309      0.632326    0.054711"
      ]
     },
     "execution_count": 284,
     "metadata": {},
     "output_type": "execute_result"
    }
   ],
   "source": [
    "month_drop_df.sort_values(by='proportion',ascending=False)"
   ]
  },
  {
   "cell_type": "markdown",
   "metadata": {},
   "source": [
    "1. Satisfactory rate is very less in the months of July, August & September. This is possible due to rainy season.\n",
    "2. Satisfactory rate is very good in the months of November and December above 80%.\n",
    "3. In the months of May and June call dropped issue is really high."
   ]
  },
  {
   "cell_type": "markdown",
   "metadata": {},
   "source": [
    "### Multivariate analysis"
   ]
  },
  {
   "cell_type": "code",
   "execution_count": 289,
   "metadata": {},
   "outputs": [],
   "source": [
    "# This function uses pivot talbe to draw impact of two categorical columns on third column.\n",
    "\n",
    "def pivot_table(df, values, index, columns):\n",
    "    xxx = pd.pivot_table(df, values=values, index=index,\n",
    "                         columns=columns, aggfunc='mean')\n",
    "    title = index.title() + ' vs' + columns.title() + ' wrt ' + values.title()\n",
    "    plt.figure(figsize=(8, 8))\n",
    "    fig = sns.heatmap(xxx, annot=True,cmap='RdBu_r',linecolor=\"yellow\",linewidths=2)\n",
    "    fig.set(title=title)\n",
    "    plt.xlabel(columns)\n",
    "    plt.ylabel(index)\n",
    "    plt.show()\n",
    "    \n",
    "    plt.figure(figsize=(16, 14))\n",
    "    title1 = index.title() + ' vs' + columns.title() + ' wrt ' + values.title() + ' call drop issue'\n",
    "#     plt.figure(figsize=(8, 8))\n",
    "    fig1 = pd.pivot_table(df[df[values] == 1], values=values, index=index,\n",
    "                        columns=columns, aggfunc='count').plot.bar()\n",
    "    fig1.set(title=title1)                    \n",
    "    plt.xlabel(index)\n",
    "    plt.ylabel(columns)\n",
    "    plt.show()\n",
    "    \n",
    "    plt.figure(figsize=(16, 14))\n",
    "    title2 = index.title() + ' vs' + columns.title() + ' wrt ' + values.title() + ' satisfactory'\n",
    "#     plt.figure(figsize=(8, 8))\n",
    "    fig2 = pd.pivot_table(df[df[values] == 0], values=values, index=index,\n",
    "                        columns=columns, aggfunc='count').plot.bar()\n",
    "    fig2.set(title=title2)\n",
    "    plt.xlabel(index)\n",
    "    plt.ylabel(columns)\n",
    "    plt.show()\n"
   ]
  },
  {
   "cell_type": "code",
   "execution_count": 290,
   "metadata": {},
   "outputs": [
    {
     "data": {
      "image/png": "[encoded data removed]",
      "text/plain": [
       "<Figure size 576x576 with 2 Axes>"
      ]
     },
     "metadata": {
      "needs_background": "light"
     },
     "output_type": "display_data"
    },
    {
     "data": {
      "text/plain": [
       "<Figure size 1152x1008 with 0 Axes>"
      ]
     },
     "metadata": {},
     "output_type": "display_data"
    },
    {
     "data": {
      "image/png": "[encoded data removed]",
      "text/plain": [
       "<Figure size 432x288 with 1 Axes>"
      ]
     },
     "metadata": {
      "needs_background": "light"
     },
     "output_type": "display_data"
    },
    {
     "data": {
      "text/plain": [
       "<Figure size 1152x1008 with 0 Axes>"
      ]
     },
     "metadata": {},
     "output_type": "display_data"
    },
    {
     "data": {
      "image/png": "[encoded data removed]",
      "text/plain": [
       "<Figure size 432x288 with 1 Axes>"
      ]
     },
     "metadata": {
      "needs_background": "light"
     },
     "output_type": "display_data"
    }
   ],
   "source": [
    "pivot_table(combined_df, 'call_drop_issue','operator', 'network_type')"
   ]
  },
  {
   "cell_type": "markdown",
   "metadata": {},
   "source": [
    "1. For RJio call drop issue is highest for 2G and 3G services (about 70%) which is double than that of 4G service(35%).\n",
    "2. For 4G services Idea has lowest call drop issue(13%) indicates Idea provides good 4G services.\n",
    "3. Rjio & Airtel 4G services gets more number of call drop issues.\n"
   ]
  },
  {
   "cell_type": "code",
   "execution_count": 291,
   "metadata": {},
   "outputs": [
    {
     "data": {
      "image/png": "[encoded data removed]",
      "text/plain": [
       "<Figure size 576x576 with 2 Axes>"
      ]
     },
     "metadata": {
      "needs_background": "light"
     },
     "output_type": "display_data"
    },
    {
     "data": {
      "text/plain": [
       "<Figure size 1152x1008 with 0 Axes>"
      ]
     },
     "metadata": {},
     "output_type": "display_data"
    },
    {
     "data": {
      "image/png": "[encoded data removed]",
      "text/plain": [
       "<Figure size 432x288 with 1 Axes>"
      ]
     },
     "metadata": {
      "needs_background": "light"
     },
     "output_type": "display_data"
    },
    {
     "data": {
      "text/plain": [
       "<Figure size 1152x1008 with 0 Axes>"
      ]
     },
     "metadata": {},
     "output_type": "display_data"
    },
    {
     "data": {
      "image/png": "[encoded data removed]",
      "text/plain": [
       "<Figure size 432x288 with 1 Axes>"
      ]
     },
     "metadata": {
      "needs_background": "light"
     },
     "output_type": "display_data"
    }
   ],
   "source": [
    "pivot_table(combined_df, 'call_drop_issue','operator', 'latitude_bkt')"
   ]
  },
  {
   "cell_type": "code",
   "execution_count": 292,
   "metadata": {},
   "outputs": [
    {
     "data": {
      "image/png": "[encoded data removed]",
      "text/plain": [
       "<Figure size 576x576 with 2 Axes>"
      ]
     },
     "metadata": {
      "needs_background": "light"
     },
     "output_type": "display_data"
    },
    {
     "data": {
      "text/plain": [
       "<Figure size 1152x1008 with 0 Axes>"
      ]
     },
     "metadata": {},
     "output_type": "display_data"
    },
    {
     "data": {
      "image/png": "[encoded data removed]",
      "text/plain": [
       "<Figure size 432x288 with 1 Axes>"
      ]
     },
     "metadata": {
      "needs_background": "light"
     },
     "output_type": "display_data"
    },
    {
     "data": {
      "text/plain": [
       "<Figure size 1152x1008 with 0 Axes>"
      ]
     },
     "metadata": {},
     "output_type": "display_data"
    },
    {
     "data": {
      "image/png": "[encoded data removed]",
      "text/plain": [
       "<Figure size 432x288 with 1 Axes>"
      ]
     },
     "metadata": {
      "needs_background": "light"
     },
     "output_type": "display_data"
    }
   ],
   "source": [
    "pivot_table(combined_df, 'call_drop_issue','operator', 'longitude_bkt')"
   ]
  },
  {
   "cell_type": "code",
   "execution_count": 293,
   "metadata": {},
   "outputs": [
    {
     "data": {
      "image/png": "[encoded data removed]",
      "text/plain": [
       "<Figure size 576x576 with 2 Axes>"
      ]
     },
     "metadata": {
      "needs_background": "light"
     },
     "output_type": "display_data"
    },
    {
     "data": {
      "text/plain": [
       "<Figure size 1152x1008 with 0 Axes>"
      ]
     },
     "metadata": {},
     "output_type": "display_data"
    },
    {
     "data": {
      "image/png": "[encoded data removed]",
      "text/plain": [
       "<Figure size 432x288 with 1 Axes>"
      ]
     },
     "metadata": {
      "needs_background": "light"
     },
     "output_type": "display_data"
    },
    {
     "data": {
      "text/plain": [
       "<Figure size 1152x1008 with 0 Axes>"
      ]
     },
     "metadata": {},
     "output_type": "display_data"
    },
    {
     "data": {
      "image/png": "[encoded data removed]",
      "text/plain": [
       "<Figure size 432x288 with 1 Axes>"
      ]
     },
     "metadata": {
      "needs_background": "light"
     },
     "output_type": "display_data"
    }
   ],
   "source": [
    "pivot_table(combined_df, 'call_drop_issue','operator', 'month')"
   ]
  },
  {
   "cell_type": "markdown",
   "metadata": {},
   "source": [
    "1. In the month of July more number of call drop issues has been recorded.\n"
   ]
  },
  {
   "cell_type": "code",
   "execution_count": null,
   "metadata": {},
   "outputs": [],
   "source": []
  }
 ],
 "metadata": {
  "kernelspec": {
   "display_name": "Python 3",
   "language": "python",
   "name": "python3"
  },
  "language_info": {
   "codemirror_mode": {
    "name": "ipython",
    "version": 3
   },
   "file_extension": ".py",
   "mimetype": "text/x-python",
   "name": "python",
   "nbconvert_exporter": "python",
   "pygments_lexer": "ipython3",
   "version": "3.7.1"
  }
 },
 "nbformat": 4,
 "nbformat_minor": 2
}
