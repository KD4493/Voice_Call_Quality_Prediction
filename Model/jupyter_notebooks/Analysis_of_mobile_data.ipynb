{
 "cells": [
  {
   "cell_type": "code",
   "execution_count": 1,
   "metadata": {},
   "outputs": [
    {
     "name": "stderr",
     "output_type": "stream",
     "text": [
      "C:\\Users\\Gavade\\Anaconda3\\lib\\site-packages\\pandas\\compat\\_optional.py:138: UserWarning: Pandas requires version '2.7.0' or newer of 'numexpr' (version '2.6.8' currently installed).\n",
      "  warnings.warn(msg, UserWarning)\n"
     ]
    }
   ],
   "source": [
    "import pandas as pd\n",
    "import numpy as np\n",
    "import matplotlib.pyplot as plt\n",
    "import seaborn as sns\n",
    "import os\n",
    "import re\n",
    "import warnings\n",
    "warnings.filterwarnings('ignore')"
   ]
  },
  {
   "cell_type": "code",
   "execution_count": 2,
   "metadata": {},
   "outputs": [],
   "source": [
    "data_path = 'D:/My Works KG/Interview_preparation/Take_home_assessment/Data/Internet_data/'"
   ]
  },
  {
   "cell_type": "code",
   "execution_count": 3,
   "metadata": {
    "scrolled": true
   },
   "outputs": [],
   "source": [
    "\n",
    "dfs = []\n",
    "\n",
    "for file_name in os.listdir(data_path):\n",
    "\n",
    "    if file_name.endswith('.csv'):\n",
    "        file_path = os.path.join(data_path, file_name)\n",
    "\n",
    "        df = pd.read_csv(file_path)\n",
    "        \n",
    "        df.columns = df.columns.str.lower().str.replace(' ', '_')\n",
    "        \n",
    "        df = df.rename(columns={'service_provider' : 'operator','download' : 'download_upload','data_speed(kbps)' : 'speed','speed_kbps' : 'speed','lsa' : 'service_area'})\n",
    "        \n",
    "        df['file_name'] = file_name\n",
    "\n",
    "\n",
    "        dfs.append(df)\n",
    "\n",
    "\n",
    "combined_df = pd.concat(dfs, ignore_index=True)\n",
    "\n",
    "\n",
    "\n"
   ]
  },
  {
   "cell_type": "code",
   "execution_count": 4,
   "metadata": {},
   "outputs": [
    {
     "data": {
      "text/html": [
       "<div>\n",
       "<style scoped>\n",
       "    .dataframe tbody tr th:only-of-type {\n",
       "        vertical-align: middle;\n",
       "    }\n",
       "\n",
       "    .dataframe tbody tr th {\n",
       "        vertical-align: top;\n",
       "    }\n",
       "\n",
       "    .dataframe thead th {\n",
       "        text-align: right;\n",
       "    }\n",
       "</style>\n",
       "<table border=\"1\" class=\"dataframe\">\n",
       "  <thead>\n",
       "    <tr style=\"text-align: right;\">\n",
       "      <th></th>\n",
       "      <th>operator</th>\n",
       "      <th>technology</th>\n",
       "      <th>download_upload</th>\n",
       "      <th>speed</th>\n",
       "      <th>signal_strength</th>\n",
       "      <th>service_area</th>\n",
       "      <th>file_name</th>\n",
       "    </tr>\n",
       "  </thead>\n",
       "  <tbody>\n",
       "    <tr>\n",
       "      <th>0</th>\n",
       "      <td>JIO</td>\n",
       "      <td>4G</td>\n",
       "      <td>download</td>\n",
       "      <td>1487.0</td>\n",
       "      <td>-97.0</td>\n",
       "      <td>Haryana</td>\n",
       "      <td>April_MySpeed-2020.csv</td>\n",
       "    </tr>\n",
       "    <tr>\n",
       "      <th>1</th>\n",
       "      <td>JIO</td>\n",
       "      <td>4G</td>\n",
       "      <td>download</td>\n",
       "      <td>1242.0</td>\n",
       "      <td>-94.0</td>\n",
       "      <td>Haryana</td>\n",
       "      <td>April_MySpeed-2020.csv</td>\n",
       "    </tr>\n",
       "    <tr>\n",
       "      <th>2</th>\n",
       "      <td>JIO</td>\n",
       "      <td>4G</td>\n",
       "      <td>download</td>\n",
       "      <td>9622.0</td>\n",
       "      <td>-92.0</td>\n",
       "      <td>Haryana</td>\n",
       "      <td>April_MySpeed-2020.csv</td>\n",
       "    </tr>\n",
       "    <tr>\n",
       "      <th>3</th>\n",
       "      <td>JIO</td>\n",
       "      <td>4G</td>\n",
       "      <td>download</td>\n",
       "      <td>837.0</td>\n",
       "      <td>-97.0</td>\n",
       "      <td>Haryana</td>\n",
       "      <td>April_MySpeed-2020.csv</td>\n",
       "    </tr>\n",
       "    <tr>\n",
       "      <th>4</th>\n",
       "      <td>JIO</td>\n",
       "      <td>4G</td>\n",
       "      <td>download</td>\n",
       "      <td>2047.0</td>\n",
       "      <td>-94.0</td>\n",
       "      <td>Haryana</td>\n",
       "      <td>April_MySpeed-2020.csv</td>\n",
       "    </tr>\n",
       "  </tbody>\n",
       "</table>\n",
       "</div>"
      ],
      "text/plain": [
       "  operator technology download_upload   speed signal_strength service_area  \\\n",
       "0      JIO         4G        download  1487.0           -97.0      Haryana   \n",
       "1      JIO         4G        download  1242.0           -94.0      Haryana   \n",
       "2      JIO         4G        download  9622.0           -92.0      Haryana   \n",
       "3      JIO         4G        download   837.0           -97.0      Haryana   \n",
       "4      JIO         4G        download  2047.0           -94.0      Haryana   \n",
       "\n",
       "                file_name  \n",
       "0  April_MySpeed-2020.csv  \n",
       "1  April_MySpeed-2020.csv  \n",
       "2  April_MySpeed-2020.csv  \n",
       "3  April_MySpeed-2020.csv  \n",
       "4  April_MySpeed-2020.csv  "
      ]
     },
     "execution_count": 4,
     "metadata": {},
     "output_type": "execute_result"
    }
   ],
   "source": [
    "combined_df.head()"
   ]
  },
  {
   "cell_type": "code",
   "execution_count": 5,
   "metadata": {},
   "outputs": [
    {
     "name": "stdout",
     "output_type": "stream",
     "text": [
      "<class 'pandas.core.frame.DataFrame'>\n",
      "RangeIndex: 17777662 entries, 0 to 17777661\n",
      "Data columns (total 7 columns):\n",
      " #   Column           Dtype  \n",
      "---  ------           -----  \n",
      " 0   operator         object \n",
      " 1   technology       object \n",
      " 2   download_upload  object \n",
      " 3   speed            float64\n",
      " 4   signal_strength  object \n",
      " 5   service_area     object \n",
      " 6   file_name        object \n",
      "dtypes: float64(1), object(6)\n",
      "memory usage: 949.4+ MB\n"
     ]
    }
   ],
   "source": [
    "combined_df.info()"
   ]
  },
  {
   "cell_type": "markdown",
   "metadata": {},
   "source": [
    "The dataset has 17777661 rows with total 7 columns and has size of about 949 MB."
   ]
  },
  {
   "cell_type": "markdown",
   "metadata": {},
   "source": [
    "### Statistical Analysis"
   ]
  },
  {
   "cell_type": "code",
   "execution_count": 6,
   "metadata": {},
   "outputs": [],
   "source": [
    "# This funciton prepares summary of datasets separately for numerical variables, categorical variables, Outliere and Missing values\n",
    "\n",
    "def get_summary(df, target_col=None):\n",
    "    stats_df = df.copy()\n",
    "    stats_num = stats_df.select_dtypes(exclude='object')\n",
    "    desc_num = stats_num.describe()\n",
    "    desc_num.reset_index(inplace=True)\n",
    "    median_dict = desc_num.median().to_dict()\n",
    "    median_dict['index'] = 'median'\n",
    "    desc_num = desc_num.append(median_dict, ignore_index=True).round(2)\n",
    "    if target_col:\n",
    "        desc_num.drop(target_col, axis=1, inplace=True)\n",
    "    desc_num.rename(columns={'index':'Statistical Measures'}, inplace=True)\n",
    "    desc_num.set_index('Statistical Measures', inplace=True)\n",
    "    desc_num.loc['count'] = desc_num.loc['count'].map(lambda x: \"{0:.0f}\".format(int(x)) if type(x) != str else x)\n",
    "\n",
    "    stats_cat = stats_df.select_dtypes(include='object')\n",
    "    desc_cat = stats_cat.describe()\n",
    "    desc_cat.reset_index(inplace=True)\n",
    "\n",
    "    Q1 = stats_num.quantile(0.25)\n",
    "    Q3 = stats_num.quantile(0.75)\n",
    "    IQR = Q3 - Q1\n",
    "    outlier_df = ((stats_num < (Q1 - 1.5 * IQR)) | (stats_num > (Q3 + 1.5 * IQR))).sum().reset_index()\n",
    "    outlier_df.rename(columns={'index': 'Feature', 0: 'Number of outliers'}, inplace=True)\n",
    "    null_df = stats_num.isnull().sum().reset_index()\n",
    "    null_df.rename(columns={'index': 'Feature', 0: 'null_values'}, inplace=True)\n",
    "    null_df = null_df[null_df['null_values'] > 0]\n",
    "    null_df['prop_null_values'] = ((null_df['null_values'] / len(stats_num)) * 100)\n",
    "    null_df_40 = null_df[null_df['prop_null_values'] > 40]\n",
    "    return {'summary_num': desc_num,'summary_cat':desc_cat, 'outlier_df': outlier_df, 'null_df': null_df,'null_df_40' : null_df_40}\n"
   ]
  },
  {
   "cell_type": "code",
   "execution_count": 7,
   "metadata": {},
   "outputs": [],
   "source": [
    "summary_df = get_summary(combined_df)"
   ]
  },
  {
   "cell_type": "code",
   "execution_count": 16,
   "metadata": {},
   "outputs": [
    {
     "data": {
      "text/html": [
       "<div>\n",
       "<style scoped>\n",
       "    .dataframe tbody tr th:only-of-type {\n",
       "        vertical-align: middle;\n",
       "    }\n",
       "\n",
       "    .dataframe tbody tr th {\n",
       "        vertical-align: top;\n",
       "    }\n",
       "\n",
       "    .dataframe thead th {\n",
       "        text-align: right;\n",
       "    }\n",
       "</style>\n",
       "<table border=\"1\" class=\"dataframe\">\n",
       "  <thead>\n",
       "    <tr style=\"text-align: right;\">\n",
       "      <th></th>\n",
       "      <th>speed</th>\n",
       "    </tr>\n",
       "    <tr>\n",
       "      <th>Statistical Measures</th>\n",
       "      <th></th>\n",
       "    </tr>\n",
       "  </thead>\n",
       "  <tbody>\n",
       "    <tr>\n",
       "      <th>count</th>\n",
       "      <td>16672850</td>\n",
       "    </tr>\n",
       "    <tr>\n",
       "      <th>mean</th>\n",
       "      <td>10371.46</td>\n",
       "    </tr>\n",
       "    <tr>\n",
       "      <th>std</th>\n",
       "      <td>15690.42</td>\n",
       "    </tr>\n",
       "    <tr>\n",
       "      <th>min</th>\n",
       "      <td>0.0</td>\n",
       "    </tr>\n",
       "    <tr>\n",
       "      <th>25%</th>\n",
       "      <td>1202.0</td>\n",
       "    </tr>\n",
       "    <tr>\n",
       "      <th>50%</th>\n",
       "      <td>4493.0</td>\n",
       "    </tr>\n",
       "    <tr>\n",
       "      <th>75%</th>\n",
       "      <td>12002.0</td>\n",
       "    </tr>\n",
       "    <tr>\n",
       "      <th>max</th>\n",
       "      <td>149894.0</td>\n",
       "    </tr>\n",
       "    <tr>\n",
       "      <th>median</th>\n",
       "      <td>11186.73</td>\n",
       "    </tr>\n",
       "  </tbody>\n",
       "</table>\n",
       "</div>"
      ],
      "text/plain": [
       "                         speed\n",
       "Statistical Measures          \n",
       "count                 16672850\n",
       "mean                  10371.46\n",
       "std                   15690.42\n",
       "min                        0.0\n",
       "25%                     1202.0\n",
       "50%                     4493.0\n",
       "75%                    12002.0\n",
       "max                   149894.0\n",
       "median                11186.73"
      ]
     },
     "execution_count": 16,
     "metadata": {},
     "output_type": "execute_result"
    }
   ],
   "source": [
    "summary_df['summary_num']"
   ]
  },
  {
   "cell_type": "code",
   "execution_count": 8,
   "metadata": {},
   "outputs": [
    {
     "data": {
      "text/html": [
       "<div>\n",
       "<style scoped>\n",
       "    .dataframe tbody tr th:only-of-type {\n",
       "        vertical-align: middle;\n",
       "    }\n",
       "\n",
       "    .dataframe tbody tr th {\n",
       "        vertical-align: top;\n",
       "    }\n",
       "\n",
       "    .dataframe thead th {\n",
       "        text-align: right;\n",
       "    }\n",
       "</style>\n",
       "<table border=\"1\" class=\"dataframe\">\n",
       "  <thead>\n",
       "    <tr style=\"text-align: right;\">\n",
       "      <th></th>\n",
       "      <th>index</th>\n",
       "      <th>operator</th>\n",
       "      <th>technology</th>\n",
       "      <th>download_upload</th>\n",
       "      <th>signal_strength</th>\n",
       "      <th>service_area</th>\n",
       "      <th>file_name</th>\n",
       "    </tr>\n",
       "  </thead>\n",
       "  <tbody>\n",
       "    <tr>\n",
       "      <th>0</th>\n",
       "      <td>count</td>\n",
       "      <td>17777662</td>\n",
       "      <td>17777662</td>\n",
       "      <td>17777662</td>\n",
       "      <td>16841100</td>\n",
       "      <td>10660372</td>\n",
       "      <td>17777662</td>\n",
       "    </tr>\n",
       "    <tr>\n",
       "      <th>1</th>\n",
       "      <td>unique</td>\n",
       "      <td>8</td>\n",
       "      <td>2</td>\n",
       "      <td>2</td>\n",
       "      <td>127</td>\n",
       "      <td>23</td>\n",
       "      <td>34</td>\n",
       "    </tr>\n",
       "    <tr>\n",
       "      <th>2</th>\n",
       "      <td>top</td>\n",
       "      <td>JIO</td>\n",
       "      <td>4G</td>\n",
       "      <td>download</td>\n",
       "      <td>na</td>\n",
       "      <td>Maharashtra</td>\n",
       "      <td>MyCall_Data_January_2023.csv</td>\n",
       "    </tr>\n",
       "    <tr>\n",
       "      <th>3</th>\n",
       "      <td>freq</td>\n",
       "      <td>9402652</td>\n",
       "      <td>17338942</td>\n",
       "      <td>8893408</td>\n",
       "      <td>1083836</td>\n",
       "      <td>1142063</td>\n",
       "      <td>978070</td>\n",
       "    </tr>\n",
       "  </tbody>\n",
       "</table>\n",
       "</div>"
      ],
      "text/plain": [
       "    index  operator technology download_upload signal_strength service_area  \\\n",
       "0   count  17777662   17777662        17777662        16841100     10660372   \n",
       "1  unique         8          2               2             127           23   \n",
       "2     top       JIO         4G        download              na  Maharashtra   \n",
       "3    freq   9402652   17338942         8893408         1083836      1142063   \n",
       "\n",
       "                      file_name  \n",
       "0                      17777662  \n",
       "1                            34  \n",
       "2  MyCall_Data_January_2023.csv  \n",
       "3                        978070  "
      ]
     },
     "execution_count": 8,
     "metadata": {},
     "output_type": "execute_result"
    }
   ],
   "source": [
    "summary_df['summary_cat']"
   ]
  },
  {
   "cell_type": "code",
   "execution_count": 9,
   "metadata": {},
   "outputs": [
    {
     "data": {
      "text/html": [
       "<div>\n",
       "<style scoped>\n",
       "    .dataframe tbody tr th:only-of-type {\n",
       "        vertical-align: middle;\n",
       "    }\n",
       "\n",
       "    .dataframe tbody tr th {\n",
       "        vertical-align: top;\n",
       "    }\n",
       "\n",
       "    .dataframe thead th {\n",
       "        text-align: right;\n",
       "    }\n",
       "</style>\n",
       "<table border=\"1\" class=\"dataframe\">\n",
       "  <thead>\n",
       "    <tr style=\"text-align: right;\">\n",
       "      <th></th>\n",
       "      <th>Feature</th>\n",
       "      <th>Number of outliers</th>\n",
       "    </tr>\n",
       "  </thead>\n",
       "  <tbody>\n",
       "    <tr>\n",
       "      <th>0</th>\n",
       "      <td>speed</td>\n",
       "      <td>1577709</td>\n",
       "    </tr>\n",
       "  </tbody>\n",
       "</table>\n",
       "</div>"
      ],
      "text/plain": [
       "  Feature  Number of outliers\n",
       "0   speed             1577709"
      ]
     },
     "execution_count": 9,
     "metadata": {},
     "output_type": "execute_result"
    }
   ],
   "source": [
    "summary_df['outlier_df']"
   ]
  },
  {
   "cell_type": "code",
   "execution_count": 10,
   "metadata": {},
   "outputs": [
    {
     "data": {
      "text/html": [
       "<div>\n",
       "<style scoped>\n",
       "    .dataframe tbody tr th:only-of-type {\n",
       "        vertical-align: middle;\n",
       "    }\n",
       "\n",
       "    .dataframe tbody tr th {\n",
       "        vertical-align: top;\n",
       "    }\n",
       "\n",
       "    .dataframe thead th {\n",
       "        text-align: right;\n",
       "    }\n",
       "</style>\n",
       "<table border=\"1\" class=\"dataframe\">\n",
       "  <thead>\n",
       "    <tr style=\"text-align: right;\">\n",
       "      <th></th>\n",
       "      <th>Feature</th>\n",
       "      <th>null_values</th>\n",
       "      <th>prop_null_values</th>\n",
       "    </tr>\n",
       "  </thead>\n",
       "  <tbody>\n",
       "    <tr>\n",
       "      <th>0</th>\n",
       "      <td>speed</td>\n",
       "      <td>1104812</td>\n",
       "      <td>6.214608</td>\n",
       "    </tr>\n",
       "  </tbody>\n",
       "</table>\n",
       "</div>"
      ],
      "text/plain": [
       "  Feature  null_values  prop_null_values\n",
       "0   speed      1104812          6.214608"
      ]
     },
     "execution_count": 10,
     "metadata": {},
     "output_type": "execute_result"
    }
   ],
   "source": [
    "summary_df['null_df']"
   ]
  },
  {
   "cell_type": "markdown",
   "metadata": {},
   "source": [
    "### Univariate Analysis"
   ]
  },
  {
   "cell_type": "code",
   "execution_count": 11,
   "metadata": {},
   "outputs": [
    {
     "data": {
      "image/png": "[encoded data removed]",
      "text/plain": [
       "<Figure size 576x576 with 1 Axes>"
      ]
     },
     "metadata": {},
     "output_type": "display_data"
    }
   ],
   "source": [
    "operator_counts = combined_df['operator'].value_counts()\n",
    "\n",
    "# Plot a pie chart\n",
    "plt.figure(figsize=(8, 8))\n",
    "plt.pie(operator_counts, labels=operator_counts.index, autopct='%1.1f%%', startangle=90)\n",
    "plt.title('Distribution of operators')\n",
    "plt.show()"
   ]
  },
  {
   "cell_type": "code",
   "execution_count": 12,
   "metadata": {},
   "outputs": [
    {
     "data": {
      "text/plain": [
       "<AxesSubplot:xlabel='technology', ylabel='count'>"
      ]
     },
     "execution_count": 12,
     "metadata": {},
     "output_type": "execute_result"
    },
    {
     "data": {
      "image/png": "[encoded data removed]",
      "text/plain": [
       "<Figure size 432x288 with 1 Axes>"
      ]
     },
     "metadata": {
      "needs_background": "light"
     },
     "output_type": "display_data"
    }
   ],
   "source": [
    "sns.countplot(data=combined_df, x='technology',palette='viridis')"
   ]
  },
  {
   "cell_type": "code",
   "execution_count": 26,
   "metadata": {},
   "outputs": [
    {
     "data": {
      "text/plain": [
       "count    1.667285e+07\n",
       "mean     1.037146e+04\n",
       "std      1.569042e+04\n",
       "min      0.000000e+00\n",
       "25%      1.202000e+03\n",
       "50%      4.493000e+03\n",
       "75%      1.200200e+04\n",
       "max      1.498940e+05\n",
       "Name: speed, dtype: float64"
      ]
     },
     "execution_count": 26,
     "metadata": {},
     "output_type": "execute_result"
    }
   ],
   "source": [
    "combined_df['speed'].describe()"
   ]
  },
  {
   "cell_type": "code",
   "execution_count": 25,
   "metadata": {},
   "outputs": [
    {
     "data": {
      "text/plain": [
       "na       0.064357\n",
       "-90      0.045703\n",
       "-97      0.020730\n",
       "-103     0.019612\n",
       "-105     0.019511\n",
       "           ...   \n",
       "-54      0.000211\n",
       "-50      0.000073\n",
       "-54.0    0.000053\n",
       "-52.0    0.000037\n",
       "-50.0    0.000015\n",
       "Name: signal_strength, Length: 127, dtype: float64"
      ]
     },
     "execution_count": 25,
     "metadata": {},
     "output_type": "execute_result"
    }
   ],
   "source": [
    "combined_df['signal_strength'].value_counts(normalize=True)"
   ]
  },
  {
   "cell_type": "code",
   "execution_count": 24,
   "metadata": {},
   "outputs": [
    {
     "data": {
      "text/html": [
       "<div>\n",
       "<style scoped>\n",
       "    .dataframe tbody tr th:only-of-type {\n",
       "        vertical-align: middle;\n",
       "    }\n",
       "\n",
       "    .dataframe tbody tr th {\n",
       "        vertical-align: top;\n",
       "    }\n",
       "\n",
       "    .dataframe thead th {\n",
       "        text-align: right;\n",
       "    }\n",
       "</style>\n",
       "<table border=\"1\" class=\"dataframe\">\n",
       "  <thead>\n",
       "    <tr style=\"text-align: right;\">\n",
       "      <th></th>\n",
       "      <th>signal_strength</th>\n",
       "      <th>proportion</th>\n",
       "    </tr>\n",
       "  </thead>\n",
       "  <tbody>\n",
       "    <tr>\n",
       "      <th>0</th>\n",
       "      <td>na</td>\n",
       "      <td>0.064357</td>\n",
       "    </tr>\n",
       "    <tr>\n",
       "      <th>1</th>\n",
       "      <td>-90</td>\n",
       "      <td>0.045703</td>\n",
       "    </tr>\n",
       "    <tr>\n",
       "      <th>2</th>\n",
       "      <td>-97</td>\n",
       "      <td>0.020730</td>\n",
       "    </tr>\n",
       "    <tr>\n",
       "      <th>3</th>\n",
       "      <td>-103</td>\n",
       "      <td>0.019612</td>\n",
       "    </tr>\n",
       "    <tr>\n",
       "      <th>4</th>\n",
       "      <td>-105</td>\n",
       "      <td>0.019511</td>\n",
       "    </tr>\n",
       "    <tr>\n",
       "      <th>...</th>\n",
       "      <td>...</td>\n",
       "      <td>...</td>\n",
       "    </tr>\n",
       "    <tr>\n",
       "      <th>122</th>\n",
       "      <td>-54</td>\n",
       "      <td>0.000211</td>\n",
       "    </tr>\n",
       "    <tr>\n",
       "      <th>123</th>\n",
       "      <td>-50</td>\n",
       "      <td>0.000073</td>\n",
       "    </tr>\n",
       "    <tr>\n",
       "      <th>124</th>\n",
       "      <td>-54.0</td>\n",
       "      <td>0.000053</td>\n",
       "    </tr>\n",
       "    <tr>\n",
       "      <th>125</th>\n",
       "      <td>-52.0</td>\n",
       "      <td>0.000037</td>\n",
       "    </tr>\n",
       "    <tr>\n",
       "      <th>126</th>\n",
       "      <td>-50.0</td>\n",
       "      <td>0.000015</td>\n",
       "    </tr>\n",
       "  </tbody>\n",
       "</table>\n",
       "<p>127 rows × 2 columns</p>\n",
       "</div>"
      ],
      "text/plain": [
       "    signal_strength  proportion\n",
       "0                na    0.064357\n",
       "1               -90    0.045703\n",
       "2               -97    0.020730\n",
       "3              -103    0.019612\n",
       "4              -105    0.019511\n",
       "..              ...         ...\n",
       "122             -54    0.000211\n",
       "123             -50    0.000073\n",
       "124           -54.0    0.000053\n",
       "125           -52.0    0.000037\n",
       "126           -50.0    0.000015\n",
       "\n",
       "[127 rows x 2 columns]"
      ]
     },
     "execution_count": 24,
     "metadata": {},
     "output_type": "execute_result"
    }
   ],
   "source": [
    "signal_df.sort_values(by='proportion',ascending=False)"
   ]
  },
  {
   "cell_type": "markdown",
   "metadata": {},
   "source": [
    "### Bivariate analysis"
   ]
  },
  {
   "cell_type": "markdown",
   "metadata": {},
   "source": [
    "#### Operator and speed analysis"
   ]
  },
  {
   "cell_type": "code",
   "execution_count": 13,
   "metadata": {},
   "outputs": [],
   "source": [
    "op_speed_df = combined_df.groupby('operator')['speed'].mean().reset_index().sort_values(by='speed',ascending=False)"
   ]
  },
  {
   "cell_type": "code",
   "execution_count": 14,
   "metadata": {},
   "outputs": [
    {
     "data": {
      "text/html": [
       "<div>\n",
       "<style scoped>\n",
       "    .dataframe tbody tr th:only-of-type {\n",
       "        vertical-align: middle;\n",
       "    }\n",
       "\n",
       "    .dataframe tbody tr th {\n",
       "        vertical-align: top;\n",
       "    }\n",
       "\n",
       "    .dataframe thead th {\n",
       "        text-align: right;\n",
       "    }\n",
       "</style>\n",
       "<table border=\"1\" class=\"dataframe\">\n",
       "  <thead>\n",
       "    <tr style=\"text-align: right;\">\n",
       "      <th></th>\n",
       "      <th>operator</th>\n",
       "      <th>speed</th>\n",
       "    </tr>\n",
       "  </thead>\n",
       "  <tbody>\n",
       "    <tr>\n",
       "      <th>5</th>\n",
       "      <td>JIO</td>\n",
       "      <td>12448.590468</td>\n",
       "    </tr>\n",
       "    <tr>\n",
       "      <th>7</th>\n",
       "      <td>Vi India</td>\n",
       "      <td>11092.850179</td>\n",
       "    </tr>\n",
       "    <tr>\n",
       "      <th>0</th>\n",
       "      <td>AIRTEL</td>\n",
       "      <td>8145.575332</td>\n",
       "    </tr>\n",
       "    <tr>\n",
       "      <th>6</th>\n",
       "      <td>VODAFONE</td>\n",
       "      <td>6799.207839</td>\n",
       "    </tr>\n",
       "    <tr>\n",
       "      <th>4</th>\n",
       "      <td>IDEA</td>\n",
       "      <td>6295.798873</td>\n",
       "    </tr>\n",
       "    <tr>\n",
       "      <th>3</th>\n",
       "      <td>DOLPHIN</td>\n",
       "      <td>4017.216667</td>\n",
       "    </tr>\n",
       "    <tr>\n",
       "      <th>2</th>\n",
       "      <td>CELLONE</td>\n",
       "      <td>2240.261215</td>\n",
       "    </tr>\n",
       "    <tr>\n",
       "      <th>1</th>\n",
       "      <td>BSNL</td>\n",
       "      <td>NaN</td>\n",
       "    </tr>\n",
       "  </tbody>\n",
       "</table>\n",
       "</div>"
      ],
      "text/plain": [
       "   operator         speed\n",
       "5       JIO  12448.590468\n",
       "7  Vi India  11092.850179\n",
       "0    AIRTEL   8145.575332\n",
       "6  VODAFONE   6799.207839\n",
       "4      IDEA   6295.798873\n",
       "3   DOLPHIN   4017.216667\n",
       "2   CELLONE   2240.261215\n",
       "1      BSNL           NaN"
      ]
     },
     "execution_count": 14,
     "metadata": {},
     "output_type": "execute_result"
    }
   ],
   "source": [
    "op_speed_df"
   ]
  },
  {
   "cell_type": "code",
   "execution_count": 15,
   "metadata": {},
   "outputs": [
    {
     "data": {
      "text/plain": [
       "<AxesSubplot:xlabel='operator', ylabel='speed'>"
      ]
     },
     "execution_count": 15,
     "metadata": {},
     "output_type": "execute_result"
    },
    {
     "data": {
      "image/png": "[encoded data removed]",
      "text/plain": [
       "<Figure size 432x288 with 1 Axes>"
      ]
     },
     "metadata": {
      "needs_background": "light"
     },
     "output_type": "display_data"
    }
   ],
   "source": [
    "sns.barplot(data=op_speed_df, x='operator',y='speed',palette='viridis')"
   ]
  },
  {
   "cell_type": "markdown",
   "metadata": {},
   "source": [
    "Among the operators JIO has highest average speed on 12000 kbps followed by Vi india and Airtel."
   ]
  },
  {
   "cell_type": "code",
   "execution_count": 30,
   "metadata": {},
   "outputs": [],
   "source": [
    "def num_cat_analysis(df, col_name, target):\n",
    "    x1 = df.groupby(by=target)[col_name].aggregate(['mean','median', p75, p90])\n",
    "    fig = sns.boxplot(x=target, y = col_name, data=df)\n",
    "    return x1\n",
    "\n",
    "def p75(x):\n",
    "    return x.quantile([0.75])\n",
    "\n",
    "\n",
    "def p90(x):\n",
    "    return x.quantile([0.9])"
   ]
  },
  {
   "cell_type": "code",
   "execution_count": 31,
   "metadata": {},
   "outputs": [
    {
     "data": {
      "text/html": [
       "<div>\n",
       "<style scoped>\n",
       "    .dataframe tbody tr th:only-of-type {\n",
       "        vertical-align: middle;\n",
       "    }\n",
       "\n",
       "    .dataframe tbody tr th {\n",
       "        vertical-align: top;\n",
       "    }\n",
       "\n",
       "    .dataframe thead th {\n",
       "        text-align: right;\n",
       "    }\n",
       "</style>\n",
       "<table border=\"1\" class=\"dataframe\">\n",
       "  <thead>\n",
       "    <tr style=\"text-align: right;\">\n",
       "      <th></th>\n",
       "      <th>mean</th>\n",
       "      <th>median</th>\n",
       "      <th>p75</th>\n",
       "      <th>p90</th>\n",
       "    </tr>\n",
       "    <tr>\n",
       "      <th>operator</th>\n",
       "      <th></th>\n",
       "      <th></th>\n",
       "      <th></th>\n",
       "      <th></th>\n",
       "    </tr>\n",
       "  </thead>\n",
       "  <tbody>\n",
       "    <tr>\n",
       "      <th>AIRTEL</th>\n",
       "      <td>8145.575332</td>\n",
       "      <td>3535.0</td>\n",
       "      <td>10457.0</td>\n",
       "      <td>22400.0</td>\n",
       "    </tr>\n",
       "    <tr>\n",
       "      <th>JIO</th>\n",
       "      <td>12448.590468</td>\n",
       "      <td>5518.0</td>\n",
       "      <td>14109.0</td>\n",
       "      <td>35025.0</td>\n",
       "    </tr>\n",
       "    <tr>\n",
       "      <th>Vi India</th>\n",
       "      <td>11092.850179</td>\n",
       "      <td>6604.0</td>\n",
       "      <td>15265.0</td>\n",
       "      <td>27749.0</td>\n",
       "    </tr>\n",
       "  </tbody>\n",
       "</table>\n",
       "</div>"
      ],
      "text/plain": [
       "                  mean  median      p75      p90\n",
       "operator                                        \n",
       "AIRTEL     8145.575332  3535.0  10457.0  22400.0\n",
       "JIO       12448.590468  5518.0  14109.0  35025.0\n",
       "Vi India  11092.850179  6604.0  15265.0  27749.0"
      ]
     },
     "execution_count": 31,
     "metadata": {},
     "output_type": "execute_result"
    },
    {
     "data": {
      "image/png": "[encoded data removed]",
      "text/plain": [
       "<Figure size 432x288 with 1 Axes>"
      ]
     },
     "metadata": {
      "needs_background": "light"
     },
     "output_type": "display_data"
    }
   ],
   "source": [
    "df_1 = num_cat_analysis(combined_df[combined_df['operator'].isin(['JIO','Vi India','AIRTEL'])], 'speed','operator')\n",
    "df_1"
   ]
  },
  {
   "cell_type": "markdown",
   "metadata": {},
   "source": [
    "#### Jio is outperforming all other operators in internet speed"
   ]
  },
  {
   "cell_type": "markdown",
   "metadata": {},
   "source": [
    "#### Technology wise speed distribution"
   ]
  },
  {
   "cell_type": "code",
   "execution_count": 34,
   "metadata": {},
   "outputs": [
    {
     "data": {
      "text/html": [
       "<div>\n",
       "<style scoped>\n",
       "    .dataframe tbody tr th:only-of-type {\n",
       "        vertical-align: middle;\n",
       "    }\n",
       "\n",
       "    .dataframe tbody tr th {\n",
       "        vertical-align: top;\n",
       "    }\n",
       "\n",
       "    .dataframe thead th {\n",
       "        text-align: right;\n",
       "    }\n",
       "</style>\n",
       "<table border=\"1\" class=\"dataframe\">\n",
       "  <thead>\n",
       "    <tr style=\"text-align: right;\">\n",
       "      <th></th>\n",
       "      <th>mean</th>\n",
       "      <th>median</th>\n",
       "      <th>p75</th>\n",
       "      <th>p90</th>\n",
       "    </tr>\n",
       "    <tr>\n",
       "      <th>technology</th>\n",
       "      <th></th>\n",
       "      <th></th>\n",
       "      <th></th>\n",
       "      <th></th>\n",
       "    </tr>\n",
       "  </thead>\n",
       "  <tbody>\n",
       "    <tr>\n",
       "      <th>3G</th>\n",
       "      <td>1878.803393</td>\n",
       "      <td>1245.0</td>\n",
       "      <td>2259.0</td>\n",
       "      <td>4377.0</td>\n",
       "    </tr>\n",
       "    <tr>\n",
       "      <th>4G</th>\n",
       "      <td>10585.350046</td>\n",
       "      <td>4691.0</td>\n",
       "      <td>12385.0</td>\n",
       "      <td>27623.0</td>\n",
       "    </tr>\n",
       "  </tbody>\n",
       "</table>\n",
       "</div>"
      ],
      "text/plain": [
       "                    mean  median      p75      p90\n",
       "technology                                        \n",
       "3G           1878.803393  1245.0   2259.0   4377.0\n",
       "4G          10585.350046  4691.0  12385.0  27623.0"
      ]
     },
     "execution_count": 34,
     "metadata": {},
     "output_type": "execute_result"
    },
    {
     "data": {
      "image/png": "[encoded data removed]",
      "text/plain": [
       "<Figure size 432x288 with 1 Axes>"
      ]
     },
     "metadata": {
      "needs_background": "light"
     },
     "output_type": "display_data"
    }
   ],
   "source": [
    "df_2 = num_cat_analysis(combined_df, 'speed','technology')\n",
    "df_2"
   ]
  },
  {
   "cell_type": "markdown",
   "metadata": {},
   "source": []
  },
  {
   "cell_type": "markdown",
   "metadata": {},
   "source": [
    "4G has far more speed than 3G which is obvious"
   ]
  },
  {
   "cell_type": "markdown",
   "metadata": {},
   "source": [
    "### Mode(download/upload) wise speed analysis"
   ]
  },
  {
   "cell_type": "code",
   "execution_count": 35,
   "metadata": {},
   "outputs": [
    {
     "data": {
      "text/html": [
       "<div>\n",
       "<style scoped>\n",
       "    .dataframe tbody tr th:only-of-type {\n",
       "        vertical-align: middle;\n",
       "    }\n",
       "\n",
       "    .dataframe tbody tr th {\n",
       "        vertical-align: top;\n",
       "    }\n",
       "\n",
       "    .dataframe thead th {\n",
       "        text-align: right;\n",
       "    }\n",
       "</style>\n",
       "<table border=\"1\" class=\"dataframe\">\n",
       "  <thead>\n",
       "    <tr style=\"text-align: right;\">\n",
       "      <th></th>\n",
       "      <th>mean</th>\n",
       "      <th>median</th>\n",
       "      <th>p75</th>\n",
       "      <th>p90</th>\n",
       "    </tr>\n",
       "    <tr>\n",
       "      <th>download_upload</th>\n",
       "      <th></th>\n",
       "      <th></th>\n",
       "      <th></th>\n",
       "      <th></th>\n",
       "    </tr>\n",
       "  </thead>\n",
       "  <tbody>\n",
       "    <tr>\n",
       "      <th>download</th>\n",
       "      <td>15648.979537</td>\n",
       "      <td>7996.0</td>\n",
       "      <td>20604.0</td>\n",
       "      <td>41048.0</td>\n",
       "    </tr>\n",
       "    <tr>\n",
       "      <th>upload</th>\n",
       "      <td>5088.801027</td>\n",
       "      <td>2608.0</td>\n",
       "      <td>7102.0</td>\n",
       "      <td>12391.0</td>\n",
       "    </tr>\n",
       "  </tbody>\n",
       "</table>\n",
       "</div>"
      ],
      "text/plain": [
       "                         mean  median      p75      p90\n",
       "download_upload                                        \n",
       "download         15648.979537  7996.0  20604.0  41048.0\n",
       "upload            5088.801027  2608.0   7102.0  12391.0"
      ]
     },
     "execution_count": 35,
     "metadata": {},
     "output_type": "execute_result"
    },
    {
     "data": {
      "image/png": "[encoded data removed]",
      "text/plain": [
       "<Figure size 432x288 with 1 Axes>"
      ]
     },
     "metadata": {
      "needs_background": "light"
     },
     "output_type": "display_data"
    }
   ],
   "source": [
    "df_3 = num_cat_analysis(combined_df, 'speed','download_upload')\n",
    "df_3"
   ]
  },
  {
   "cell_type": "markdown",
   "metadata": {},
   "source": [
    "Download speed is higher than upload. "
   ]
  },
  {
   "cell_type": "markdown",
   "metadata": {},
   "source": [
    "### Multivariate analysis"
   ]
  },
  {
   "cell_type": "code",
   "execution_count": 38,
   "metadata": {},
   "outputs": [],
   "source": [
    "pd.options.display.float_format = '{:.0f}'.format"
   ]
  },
  {
   "cell_type": "code",
   "execution_count": 39,
   "metadata": {},
   "outputs": [],
   "source": [
    "# This function uses pivot talbe to draw impact of two categorical columns on third column.\n",
    "\n",
    "def pivot_table(df, values, index, columns):\n",
    "    xxx = pd.pivot_table(df, values=values, index=index,\n",
    "                         columns=columns, aggfunc='mean')\n",
    "    title = index.title() + ' vs' + columns.title() + ' wrt ' + values.title()\n",
    "    plt.figure(figsize=(8, 8))\n",
    "    fig = sns.heatmap(xxx, annot=True,cmap='RdBu_r',linecolor=\"yellow\",linewidths=2)\n",
    "    fig.set(title=title)\n",
    "    plt.xlabel(columns)\n",
    "    plt.ylabel(index)\n",
    "    plt.show()\n",
    "    \n",
    "    plt.figure(figsize=(16, 14))\n",
    "    title1 = index.title() + ' vs' + columns.title() + ' wrt ' + values.title()\n",
    "#     plt.figure(figsize=(8, 8))\n",
    "    fig1 = pd.pivot_table(df, values=values, index=index,\n",
    "                        columns=columns, aggfunc='count').plot.bar()\n",
    "    fig1.set(title=title1)                    \n",
    "    plt.xlabel(index)\n",
    "    plt.ylabel(columns)\n",
    "    plt.show()\n"
   ]
  },
  {
   "cell_type": "code",
   "execution_count": 40,
   "metadata": {},
   "outputs": [
    {
     "data": {
      "image/png": "[encoded data removed]",
      "text/plain": [
       "<Figure size 576x576 with 2 Axes>"
      ]
     },
     "metadata": {
      "needs_background": "light"
     },
     "output_type": "display_data"
    },
    {
     "data": {
      "text/plain": [
       "<Figure size 1152x1008 with 0 Axes>"
      ]
     },
     "metadata": {},
     "output_type": "display_data"
    },
    {
     "data": {
      "image/png": "[encoded data removed]",
      "text/plain": [
       "<Figure size 432x288 with 1 Axes>"
      ]
     },
     "metadata": {
      "needs_background": "light"
     },
     "output_type": "display_data"
    }
   ],
   "source": [
    "pivot_table(combined_df, 'speed','operator', 'technology')"
   ]
  },
  {
   "cell_type": "markdown",
   "metadata": {},
   "source": [
    "#### relation between operator and mode(download/uploda) on speed"
   ]
  },
  {
   "cell_type": "code",
   "execution_count": 41,
   "metadata": {},
   "outputs": [
    {
     "data": {
      "image/png": "[encoded data removed]",
      "text/plain": [
       "<Figure size 576x576 with 2 Axes>"
      ]
     },
     "metadata": {
      "needs_background": "light"
     },
     "output_type": "display_data"
    },
    {
     "data": {
      "text/plain": [
       "<Figure size 1152x1008 with 0 Axes>"
      ]
     },
     "metadata": {},
     "output_type": "display_data"
    },
    {
     "data": {
      "image/png": "[encoded data removed]",
      "text/plain": [
       "<Figure size 432x288 with 1 Axes>"
      ]
     },
     "metadata": {
      "needs_background": "light"
     },
     "output_type": "display_data"
    }
   ],
   "source": [
    "pivot_table(combined_df, 'speed','operator', 'download_upload')"
   ]
  },
  {
   "cell_type": "code",
   "execution_count": null,
   "metadata": {},
   "outputs": [],
   "source": []
  }
 ],
 "metadata": {
  "kernelspec": {
   "display_name": "Python 3",
   "language": "python",
   "name": "python3"
  },
  "language_info": {
   "codemirror_mode": {
    "name": "ipython",
    "version": 3
   },
   "file_extension": ".py",
   "mimetype": "text/x-python",
   "name": "python",
   "nbconvert_exporter": "python",
   "pygments_lexer": "ipython3",
   "version": "3.7.1"
  }
 },
 "nbformat": 4,
 "nbformat_minor": 2
}
